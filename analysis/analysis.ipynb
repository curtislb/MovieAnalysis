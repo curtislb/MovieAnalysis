{
 "cells": [
  {
   "cell_type": "code",
   "execution_count": 67,
   "metadata": {
    "collapsed": false
   },
   "outputs": [],
   "source": [
    "from json import loads, dumps\n",
    "\n",
    "import sklearn.linear_model as lm\n",
    "from sklearn.cross_validation import KFold\n",
    "\n",
    "import numpy as np\n",
    "\n",
    "from sklearn.metrics import mean_squared_error, r2_score\n",
    "\n",
    "from math import sqrt\n",
    "\n",
    "from time import time\n",
    "\n",
    "MOVIE_DATA_LOC = '../data/movies.bigdata'"
   ]
  },
  {
   "cell_type": "code",
   "execution_count": 2,
   "metadata": {
    "collapsed": false
   },
   "outputs": [],
   "source": [
    "movie_data = []\n",
    "with open(MOVIE_DATA_LOC) as f:\n",
    "    for line in f:\n",
    "        movie_data.append(loads(line))"
   ]
  },
  {
   "cell_type": "code",
   "execution_count": 3,
   "metadata": {
    "collapsed": false
   },
   "outputs": [],
   "source": [
    "def rmse(test_classes_true, test_classes_pred):\n",
    "    return sqrt(mean_squared_error(test_classes_true, test_classes_pred))"
   ]
  },
  {
   "cell_type": "code",
   "execution_count": 4,
   "metadata": {
    "collapsed": false
   },
   "outputs": [],
   "source": [
    "def pprint(json_data):\n",
    "    print dumps(json_data, indent=4, separators=(',', ': '))"
   ]
  },
  {
   "cell_type": "code",
   "execution_count": 158,
   "metadata": {
    "collapsed": false
   },
   "outputs": [],
   "source": [
    "# mapping of actor_id to (index, name)\n",
    "actor_id_mapping = {}\n",
    "\n",
    "# mapping if index to (actor_id, name)\n",
    "actor_index_mapping = {}\n",
    "\n",
    "# mapping of movie_id to (index, title, set(actor_ids...), rating)\n",
    "movie_id_mapping = {}\n",
    "\n",
    "# mapping of index to (movie_id, title, set(actor_ids...), rating)\n",
    "movie_index_mapping = {}\n",
    "\n",
    "actor_last_index = 0\n",
    "movie_last_index = 0\n",
    "for movie in movie_data:\n",
    "    if ('cast_summary' in movie['data']) and ('rating' in movie['data']):\n",
    "        movie_id = movie['data']['tconst']\n",
    "        if movie_id not in movie_id_mapping: # some movie_IDs are repeated for some reason...\n",
    "            actor_ids = set()\n",
    "            for cast_member in movie['data']['cast_summary']:\n",
    "                actor_id = cast_member['name']['nconst']\n",
    "                actor_ids.add(actor_id)\n",
    "                if actor_id not in actor_id_mapping:\n",
    "                    actor_name = cast_member['name']['name']\n",
    "                    actor_id_mapping[actor_id] = (actor_last_index, actor_name)\n",
    "                    actor_index_mapping[actor_last_index] = (actor_id, actor_name)\n",
    "                    actor_last_index += 1\n",
    "                    \n",
    "            movie_id_mapping[movie_id] = (movie_last_index, movie['data']['title'], actor_ids, movie['data']['rating'])\n",
    "            movie_index_mapping[movie_last_index] = (movie_id, movie['data']['title'], actor_ids, movie['data']['rating'])\n",
    "            movie_last_index += 1\n",
    "            \n",
    "# prepare binary feature matrix, rows = movies, columns = actors\n",
    "actor_matrix = np.zeros(shape=(len(movie_id_mapping), len(actor_id_mapping)), dtype=np.uint8)\n",
    "ratings = np.empty(shape=len(movie_id_mapping), dtype=float)\n",
    "\n",
    "for movie_id in movie_id_mapping:\n",
    "    movie_index = movie_id_mapping[movie_id][0]\n",
    "    for actor_id in movie_id_mapping[movie_id][2]:\n",
    "        actor_index = actor_id_mapping[actor_id][0]\n",
    "        actor_matrix[movie_index, actor_index] = 1\n",
    "    ratings[movie_index] = movie_id_mapping[movie_id][3]"
   ]
  },
  {
   "cell_type": "code",
   "execution_count": 150,
   "metadata": {
    "collapsed": true
   },
   "outputs": [],
   "source": [
    "# mapping of director_id to (index, name)\n",
    "director_id_mapping = {}\n",
    "\n",
    "# mapping if index to (director_id, name)\n",
    "director_index_mapping = {}\n",
    "\n",
    "# mapping of movie_id to (index, title, set(director_ids...), rating)\n",
    "movie_id_mapping = {}\n",
    "\n",
    "# mapping of index to (movie_id, title, set(director_ids...), rating)\n",
    "movie_index_mapping = {}\n",
    "\n",
    "director_last_index = 0\n",
    "movie_last_index = 0\n",
    "for movie in movie_data:\n",
    "    if ('directors_summary' in movie['data']) and ('rating' in movie['data']):\n",
    "        movie_id = movie['data']['tconst']\n",
    "        if movie_id not in movie_id_mapping: # some movie_IDs are repeated for some reason...\n",
    "            director_ids = set()\n",
    "            for director in movie['data']['directors_summary']:\n",
    "                director_id = director['name']['nconst']\n",
    "                director_ids.add(director_id)\n",
    "                if director_id not in director_id_mapping:\n",
    "                    director_name = director['name']['name']\n",
    "                    director_id_mapping[director_id] = (director_last_index, director_name)\n",
    "                    director_index_mapping[director_last_index] = (director_id, director_name)\n",
    "                    director_last_index += 1\n",
    "            \n",
    "            movie_id_mapping[movie_id] = (movie_last_index, movie['data']['title'], director_ids, movie['data']['rating'])\n",
    "            movie_index_mapping[movie_last_index] = (movie_id, movie['data']['title'], director_ids, movie['data']['rating'])\n",
    "            movie_last_index += 1\n",
    "    \n",
    "# prepare binary feature matrix, rows = movies, columns = actors\n",
    "director_matrix = np.zeros(shape=(len(movie_id_mapping), len(director_id_mapping)), dtype=np.uint8)\n",
    "ratings = np.empty(shape=len(movie_id_mapping), dtype=float)\n",
    "\n",
    "for movie_id in movie_id_mapping:\n",
    "    movie_index = movie_id_mapping[movie_id][0]\n",
    "    for director_id in movie_id_mapping[movie_id][2]:\n",
    "        director_index = director_id_mapping[director_id][0]\n",
    "        director_matrix[movie_index, director_index] = 1\n",
    "    ratings[movie_index] = movie_id_mapping[movie_id][3]"
   ]
  },
  {
   "cell_type": "code",
   "execution_count": 6,
   "metadata": {
    "collapsed": false
   },
   "outputs": [],
   "source": [
    "def predict(train_feature_matrix, train_classes, test_feature_matrix, test_classes_real, classifier):\n",
    "    classifier.fit(train_feature_matrix, train_classes)\n",
    "    test_classes_pred = classifier.predict(test_feature_matrix)\n",
    "    return test_classes_pred, test_classes_real"
   ]
  },
  {
   "cell_type": "code",
   "execution_count": 7,
   "metadata": {
    "collapsed": false
   },
   "outputs": [],
   "source": [
    "# cross validation predict\n",
    "def cv_predict(feature_matrix, classes, classifier, k):\n",
    "    kf = KFold(len(classes), n_folds=k)\n",
    "    results = []\n",
    "    for train, test in kf:\n",
    "        train_feature_matrix = feature_matrix[train]\n",
    "        train_classes = classes[train]\n",
    "        test_feature_matrix = feature_matrix[test]\n",
    "        test_classes_real = classes[test]\n",
    "        results.append(predict(train_feature_matrix, train_classes, test_feature_matrix, test_classes_real, classifier))\n",
    "    return results"
   ]
  },
  {
   "cell_type": "code",
   "execution_count": 56,
   "metadata": {
    "collapsed": true
   },
   "outputs": [],
   "source": [
    "lasso_alpha = 0.000575877769539"
   ]
  },
  {
   "cell_type": "code",
   "execution_count": 19,
   "metadata": {
    "collapsed": false,
    "scrolled": true
   },
   "outputs": [
    {
     "name": "stderr",
     "output_type": "stream",
     "text": [
      "/usr/lib64/python2.7/site-packages/sklearn/linear_model/coordinate_descent.py:490: ConvergenceWarning: Objective did not converge. You might want to increase the number of iterations\n",
      "  ConvergenceWarning)\n"
     ]
    },
    {
     "data": {
      "text/plain": [
       "LassoCV(alphas=None, copy_X=True, cv=None, eps=0.001, fit_intercept=True,\n",
       "    max_iter=1000, n_alphas=100, n_jobs=1, normalize=False, positive=False,\n",
       "    precompute='auto', tol=0.0001, verbose=False)"
      ]
     },
     "execution_count": 19,
     "metadata": {},
     "output_type": "execute_result"
    }
   ],
   "source": [
    "regressor = lm.Lasso(alpha=lasso_alpha)\n",
    "regressor.fit(matrix, ratings)"
   ]
  },
  {
   "cell_type": "code",
   "execution_count": 163,
   "metadata": {
    "collapsed": false
   },
   "outputs": [
    {
     "data": {
      "text/plain": [
       "Lasso(alpha=1.0, copy_X=True, fit_intercept=True, max_iter=1000,\n",
       "   normalize=False, positive=False, precompute='auto', tol=0.0001,\n",
       "   warm_start=False)"
      ]
     },
     "execution_count": 163,
     "metadata": {},
     "output_type": "execute_result"
    }
   ],
   "source": [
    "matrix_copy = np.copy(actor_matrix)\n",
    "np.random.shuffle(matrix_copy)\n",
    "\n",
    "tt_index = len(matrix_copy) / 5\n",
    "\n",
    "regressor2 = lm.Lasso(alpha=1.0)\n",
    "regressor2.fit(matrix_copy[tt_index:], ratings[tt_index:])"
   ]
  },
  {
   "cell_type": "code",
   "execution_count": 167,
   "metadata": {
    "collapsed": false
   },
   "outputs": [
    {
     "name": "stdout",
     "output_type": "stream",
     "text": [
      "6.30079702444\n",
      "0.0\n",
      "6.30079702444 6.4\n",
      "1.01999494743\n",
      "1.01999494743\n"
     ]
    }
   ],
   "source": [
    "print regressor2.intercept_\n",
    "print np.sum(regressor2.coef_)\n",
    "\n",
    "print np.mean(ratings[tt_index:]), np.median(ratings[tt_index:])\n",
    "\n",
    "print rmse(regressor2.predict(matrix_copy[:tt_index]), ratings[:tt_index])\n",
    "\n",
    "mean_preds = [np.mean(ratings[tt_index:])] * len(ratings[:tt_index])\n",
    "print rmse(mean_preds, ratings[:tt_index])"
   ]
  },
  {
   "cell_type": "code",
   "execution_count": 15,
   "metadata": {
    "collapsed": false
   },
   "outputs": [
    {
     "name": "stdout",
     "output_type": "stream",
     "text": [
      "2.85427722152e+13 -8.0587005462e+26 1550.96899986\n"
     ]
    }
   ],
   "source": [
    "regressor = LinearRegression()\n",
    "\n",
    "K = 5\n",
    "\n",
    "total_rmse = 0\n",
    "total_r2_score = 0\n",
    "start_time = time()\n",
    "\n",
    "for pred_values, true_values in cv_predict(matrix, ratings, regressor, K):\n",
    "    total_rmse += rmse(true_values, pred_values)\n",
    "    total_r2_score += r2_score(true_values, pred_values)\n",
    "    \n",
    "avg_rmse = total_rmse / K\n",
    "avg_r2_score = total_r2_score / K\n",
    "\n",
    "print avg_rmse, avg_r2_score, time() - start_time"
   ]
  },
  {
   "cell_type": "code",
   "execution_count": 157,
   "metadata": {
    "collapsed": false
   },
   "outputs": [
    {
     "name": "stdout",
     "output_type": "stream",
     "text": [
      "Pulp Fiction\n",
      "Quentin Tarantino\n",
      "--------------------------------------------------------------------------------\n",
      "The Amazing Spider-Man 2\n",
      "Marc Webb\n",
      "--------------------------------------------------------------------------------\n",
      "The Shawshank Redemption\n",
      "Frank Darabont\n",
      "--------------------------------------------------------------------------------\n",
      "Star Wars\n",
      "George Lucas\n",
      "--------------------------------------------------------------------------------\n",
      "Back to the Future\n",
      "Robert Zemeckis\n",
      "--------------------------------------------------------------------------------\n",
      "The Breakfast Club\n",
      "John Hughes\n",
      "--------------------------------------------------------------------------------\n",
      "The Goonies\n",
      "Richard Donner\n",
      "--------------------------------------------------------------------------------\n",
      "The Silence of the Lambs\n",
      "Jonathan Demme\n",
      "--------------------------------------------------------------------------------\n",
      "Jurassic Park\n",
      "Steven Spielberg\n",
      "--------------------------------------------------------------------------------\n",
      "The Lion King\n",
      "Roger Allers\n",
      "Rob Minkoff\n",
      "--------------------------------------------------------------------------------\n"
     ]
    }
   ],
   "source": [
    "for movie_index, features in enumerate(director_matrix[:10]):\n",
    "    print movie_index_mapping[movie_index][1]\n",
    "    for director_index, value in enumerate(features):\n",
    "        if value == 1:\n",
    "            print director_index_mapping[director_index][1]\n",
    "    print '-' * 80"
   ]
  },
  {
   "cell_type": "code",
   "execution_count": null,
   "metadata": {
    "collapsed": true
   },
   "outputs": [],
   "source": []
  }
 ],
 "metadata": {
  "kernelspec": {
   "display_name": "Python 2",
   "language": "python",
   "name": "python2"
  },
  "language_info": {
   "codemirror_mode": {
    "name": "ipython",
    "version": 2
   },
   "file_extension": ".py",
   "mimetype": "text/x-python",
   "name": "python",
   "nbconvert_exporter": "python",
   "pygments_lexer": "ipython2",
   "version": "2.7.5"
  }
 },
 "nbformat": 4,
 "nbformat_minor": 0
}
