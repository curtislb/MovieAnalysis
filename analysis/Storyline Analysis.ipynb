{
 "cells": [
  {
   "cell_type": "code",
   "execution_count": 1,
   "metadata": {
    "collapsed": false
   },
   "outputs": [],
   "source": [
    "%matplotlib inline\n",
    "\n",
    "import numpy as np\n",
    "from time import time\n",
    "import matplotlib.pyplot as plt\n",
    "\n",
    "STORYLINES_LOC = '../data/movie_storylines.bigdata'"
   ]
  },
  {
   "cell_type": "code",
   "execution_count": 2,
   "metadata": {
    "collapsed": false
   },
   "outputs": [],
   "source": [
    "# read in storylines, ignore movies with no storyline\n",
    "storylines = {}\n",
    "with open(STORYLINES_LOC) as f:\n",
    "    for line in f:\n",
    "        data = line.rstrip().split('|')\n",
    "        if data[1] != '':\n",
    "            if data[0] not in storylines:\n",
    "                storylines[data[0]] = data[1]"
   ]
  },
  {
   "cell_type": "code",
   "execution_count": 3,
   "metadata": {
    "collapsed": true
   },
   "outputs": [],
   "source": [
    "import nltk, re\n",
    "from nltk import word_tokenize\n",
    "from nltk.corpus import stopwords\n",
    "\n",
    "chars = ['{','}','#','%','&','\\(','\\)','\\[','\\]','<','>',',', '!', '.', ';',\n",
    "'?', '*', '\\\\', '\\/', '~', '_','|','=','+','^',':','\\\"','\\'','@','-']"
   ]
  },
  {
   "cell_type": "code",
   "execution_count": 4,
   "metadata": {
    "collapsed": false
   },
   "outputs": [],
   "source": [
    "# get movie name associated with each ID\n",
    "from json import loads\n",
    "MOVIE_DATA_LOC = '../data/movies.bigdata'\n",
    "\n",
    "# read in movie data\n",
    "movie_data = []\n",
    "with open(MOVIE_DATA_LOC) as f:\n",
    "    for line in f:\n",
    "        movie_data.append(loads(line))\n",
    "        \n",
    "# mapping of movie_id to name\n",
    "movie_name_mapping = {}\n",
    "movie_year_mapping = {}\n",
    "movie_rating_mapping = {}\n",
    "\n",
    "for entry in movie_data:\n",
    "    movie_ID = entry['data']['tconst']\n",
    "    if movie_ID not in movie_name_mapping:\n",
    "        movie_name_mapping[movie_ID] = entry['data']['title']\n",
    "        try:\n",
    "            movie_year_mapping[movie_ID] = int(entry['data']['year'])\n",
    "        except ValueError:\n",
    "            movie_year_mapping[movie_ID] = -1\n",
    "        try:\n",
    "            movie_rating_mapping[movie_ID] = float(entry['data']['rating'])\n",
    "        except KeyError:\n",
    "            movie_rating_mapping[movie_ID] = -1."
   ]
  },
  {
   "cell_type": "code",
   "execution_count": 5,
   "metadata": {
    "collapsed": false
   },
   "outputs": [],
   "source": [
    "MIN_NUM_TOKENS = 5\n",
    "\n",
    "# from Assignment 1 code\n",
    "porter = nltk.PorterStemmer() # also lancaster stemmer\n",
    "wnl = nltk.WordNetLemmatizer()\n",
    "stopWords = stopwords.words(\"english\")\n",
    "words = {}\n",
    "movie_tokens = {}\n",
    "movie_index_mapping = {}\n",
    "index_movie_mapping = {}\n",
    "\n",
    "# get words and counts\n",
    "movie_last_index = 0\n",
    "for movie_ID, storyline in storylines.iteritems():\n",
    "    storyline = storyline.decode('latin1')\n",
    "    # remove noisy characters; tokenize\n",
    "    raw = re.sub('[%s]' % ''.join(chars), ' ', storyline)\n",
    "    tokens = word_tokenize(raw)\n",
    "    # convert to lower case\n",
    "    tokens = [w.lower() for w in tokens]\n",
    "    tokens = [w for w in tokens if w not in stopWords]\n",
    "    tokens = [wnl.lemmatize(t) for t in tokens]\n",
    "    tokens = [porter.stem(t) for t in tokens]\n",
    "    \n",
    "    # only want some tokens\n",
    "    if len(tokens) >= MIN_NUM_TOKENS:\n",
    "        if movie_ID not in movie_index_mapping:\n",
    "            if movie_ID in movie_year_mapping:\n",
    "                if movie_rating_mapping[movie_ID] != -1:\n",
    "                    if 0 <= movie_year_mapping[movie_ID]:\n",
    "                        for t in tokens:\n",
    "                            # this is a hack but much faster than lookup each\n",
    "                            # word within many dict keys\n",
    "                            try:\n",
    "                                words[t] = words[t]+1\n",
    "                            except:\n",
    "                                words[t] = 1\n",
    "                        movie_tokens[movie_ID] = tokens\n",
    "                        movie_index_mapping[movie_ID] = movie_last_index\n",
    "                        index_movie_mapping[movie_last_index] = movie_ID\n",
    "                        movie_last_index += 1"
   ]
  },
  {
   "cell_type": "code",
   "execution_count": 6,
   "metadata": {
    "collapsed": false
   },
   "outputs": [],
   "source": [
    "MIN_OCCURS = 5\n",
    "\n",
    "# remove all ones that have less than MIN_OCCURS occurrences\n",
    "# assign indices\n",
    "word_last_index = 0\n",
    "word_index_mapping = {}\n",
    "index_word_mapping = {}\n",
    "for word, count in words.iteritems():\n",
    "    if count >= MIN_OCCURS:\n",
    "        word_index_mapping[word] = word_last_index\n",
    "        index_word_mapping[word_last_index] = word\n",
    "        word_last_index += 1"
   ]
  },
  {
   "cell_type": "code",
   "execution_count": 10,
   "metadata": {
    "collapsed": false,
    "scrolled": true
   },
   "outputs": [],
   "source": [
    "# from the scipy.sparse library, do the importation of the csc_matrix\n",
    "from scipy.sparse import csc_matrix\n",
    "\n",
    "# prepare binary feature matrix, rows = movies, columns = actors\n",
    "matrix = np.zeros(shape=(len(movie_index_mapping), len(word_index_mapping)), dtype=np.uint8)\n",
    "\n",
    "for movie_ID, movie_index in movie_index_mapping.iteritems():\n",
    "    for word in movie_tokens[movie_ID]:\n",
    "        if word in word_index_mapping:\n",
    "            word_index = word_index_mapping[word]\n",
    "            matrix[movie_index, word_index] += 1\n",
    "            \n",
    "smatrix = csc_matrix(matrix)"
   ]
  },
  {
   "cell_type": "code",
   "execution_count": 8,
   "metadata": {
    "collapsed": false
   },
   "outputs": [
    {
     "name": "stdout",
     "output_type": "stream",
     "text": [
      "Time taken (s): 156\n",
      "\n"
     ]
    }
   ],
   "source": [
    "import lda\n",
    "\n",
    "NUM_TOPICS = 20\n",
    "\n",
    "start = time()\n",
    "lda_model = lda.LDA(n_topics=NUM_TOPICS, n_iter=1500, random_state=420)\n",
    "lda_model.fit(smatrix)\n",
    "print 'Time taken (s): %d\\n' % (time() - start)"
   ]
  },
  {
   "cell_type": "code",
   "execution_count": 9,
   "metadata": {
    "collapsed": false,
    "scrolled": true
   },
   "outputs": [
    {
     "name": "stdout",
     "output_type": "stream",
     "text": [
      "Topic 0: life father mother year famili son child\n",
      "Topic 1: murder case investig report work lawyer black\n",
      "Topic 2: go one get find man want tri\n",
      "Topic 3: school high student team friend win girl\n",
      "Topic 4: town find small dog local take famili\n",
      "Topic 5: love young jack mr find fall famili\n",
      "Topic 6: get new go one time take life\n",
      "Topic 7: human earth find discov world alien island\n",
      "Topic 8: life stori young world love one man\n",
      "Topic 9: year famili father friend old hous mother\n",
      "Topic 10: polic drug prison kill cop crime crimin\n",
      "Topic 11: music new show star rock play band\n",
      "Topic 12: agent secret team one mission u must\n",
      "Topic 13: murder killer kill mysteri one death begin\n",
      "Topic 14: get money job work make tri compani\n",
      "Topic 15: war american armi world soldier u german\n",
      "Topic 16: get friend go life parti one night\n",
      "Topic 17: film life stori movi year follow time\n",
      "Topic 18: love woman life new meet relationship friend\n",
      "Topic 19: evil power world king must father god\n"
     ]
    }
   ],
   "source": [
    "n_top_words = 8\n",
    "for i, topic_dist in enumerate(lda_model.topic_word_):\n",
    "    topic_words = []\n",
    "    for word_index in np.argsort(topic_dist)[:-n_top_words:-1]:\n",
    "        topic_words.append(index_word_mapping[word_index])\n",
    "    print 'Topic {}: {}'.format(i, ' '.join([word.encode('latin1') for word in topic_words]))"
   ]
  },
  {
   "cell_type": "code",
   "execution_count": 10,
   "metadata": {
    "collapsed": false
   },
   "outputs": [],
   "source": [
    "# for i in xrange(10): # first 10 documents\n",
    "#     movie_name = movie_name_mapping[index_movie_mapping[i]]\n",
    "#     print \"{} (top topic: {})\".format(movie_name, lda_model.doc_topic_[i].argmax())"
   ]
  },
  {
   "cell_type": "code",
   "execution_count": 11,
   "metadata": {
    "collapsed": false,
    "scrolled": true
   },
   "outputs": [
    {
     "name": "stdout",
     "output_type": "stream",
     "text": [
      "0\n",
      "Where the Lilies Bloom (1974) [tt0072401]\n",
      "The Savages (2007) [tt0775529]\n",
      "Strangers: The Story of a Mother and Daughter (1979) [tt0079956]\n",
      "Misunderstood (1984) [tt0087730]\n",
      "Front of the Class (2008) [tt1292594]\n",
      "The Evening Star (1996) [tt0116240]\n",
      "The Hireling (1973) [tt0070180]\n",
      "An Angel at My Table (1990) [tt0099040]\n",
      "The Stone Angel (2007) [tt0847897]\n",
      "Nil by Mouth (1997) [tt0119792]\n",
      "6.69673518742\n",
      "\n",
      "1\n",
      "JFK (1991) [tt0102138]\n",
      "Mr. Ricco (1975) [tt0073411]\n",
      "The Times of Harvey Milk (1984) [tt0088275]\n",
      "The Ordeal of Dr. Mudd (1980) [tt0081281]\n",
      "Red Corner (1997) [tt0119994]\n",
      "Warm Springs (2005) [tt0423510]\n",
      "All the President's Men (1976) [tt0074119]\n",
      "The Return of the Pink Panther (1975) [tt0072081]\n",
      "The Life of David Gale (2003) [tt0289992]\n",
      "The Pink Panther (2006) [tt0383216]\n",
      "6.62358208955\n",
      "\n",
      "2\n",
      "Futureworld (1976) [tt0074559]\n",
      "Source Code (2011) [tt0945513]\n",
      "16 Wishes (2010) [tt1646876]\n",
      "Betrayed (1988) [tt0094731]\n",
      "The Man with One Red Shoe (1985) [tt0089543]\n",
      "Horton Hears a Who! (2008) [tt0451079]\n",
      "Angel Heart (1987) [tt0092563]\n",
      "This Means War (2012) [tt1596350]\n",
      "The Back-up Plan (2010) [tt1212436]\n",
      "Braddock: Missing in Action III (1988) [tt0094792]\n",
      "6.40739957717\n",
      "\n",
      "3\n",
      "Sunset Park (1996) [tt0117784]\n",
      "Rocky III (1982) [tt0084602]\n",
      "A Good Old Fashioned Orgy (2011) [tt1231586]\n",
      "Dazed and Confused (1993) [tt0106677]\n",
      "Teachers (1984) [tt0088242]\n",
      "ATL (2006) [tt0466856]\n",
      "Summer School (1987) [tt0094072]\n",
      "Go Figure (2005) [tt0447987]\n",
      "All Things Fall Apart (2011) [tt1606390]\n",
      "Stand and Deliver (1988) [tt0094027]\n",
      "6.16646341463\n",
      "\n",
      "4\n",
      "Wild Hogs (2007) [tt0486946]\n",
      "Beverly Hills Chihuahua (2008) [tt1014775]\n",
      "Eagle's Wing (1979) [tt0079094]\n",
      "Wolf Creek (2005) [tt0416315]\n",
      "Shadows and Fog (1991) [tt0105378]\n",
      "The River Wild (1994) [tt0110997]\n",
      "Shiloh (1996) [tt0120118]\n",
      "Open Season 3 (2010) [tt1646926]\n",
      "Back Roads (1981) [tt0082042]\n",
      "Smokey and the Bandit Part 3 (1983) [tt0086325]\n",
      "6.19046610169\n",
      "\n",
      "5\n",
      "Tess of the D'Urbervilles (1998) [tt0126100]\n",
      "The Three Musketeers (1973) [tt0072281]\n",
      "Shrek the Third (2007) [tt0413267]\n",
      "Young Catherine (1991) [tt0103311]\n",
      "The Affair of the Necklace (2001) [tt0242252]\n",
      "Casanova (2005) [tt0402894]\n",
      "The Four Musketeers: Milady's Revenge (1974) [tt0073012]\n",
      "Othello (1981) [tt0082861]\n",
      "The Three Musketeers (1993) [tt0108333]\n",
      "Hennessy (1975) [tt0073103]\n",
      "6.50521172638\n",
      "\n",
      "6\n",
      "One Magic Christmas (1985) [tt0089731]\n",
      "The Santa Clause 3: The Escape Clause (2006) [tt0452681]\n",
      "Arthur's Perfect Christmas (2000) [tt0268948]\n",
      "Tim and Eric's Billion Dollar Movie (2012) [tt1855401]\n",
      "Dennis the Menace (1993) [tt0106701]\n",
      "Mannequin (1987) [tt0093493]\n",
      "The Santa Clause 2 (2002) [tt0304669]\n",
      "Holy Man (1998) [tt0120701]\n",
      "Christmas Vacation (1989) [tt0097958]\n",
      "Hooper (1978) [tt0077696]\n",
      "6.13558558559\n",
      "\n",
      "7\n",
      "Sunshine (2007) [tt0448134]\n",
      "The Dark Side of the Moon (1990) [tt0099364]\n",
      "The War in Space (1977) [tt0076902]\n",
      "Mimic (1997) [tt0119675]\n",
      "City of Ember (2008) [tt0970411]\n",
      "Leviathan (1989) [tt0097737]\n",
      "The Island of Dr. Moreau (1977) [tt0076210]\n",
      "Rise of the Zombies (2012) [tt2236182]\n",
      "The Lost Future (2010) [tt1615091]\n",
      "Return of the Living Dead II (1988) [tt0095990]\n",
      "5.95400696864\n",
      "\n",
      "8\n",
      "Great Expectations (1998) [tt0119223]\n",
      "The Hi-Lo Country (1998) [tt0120699]\n",
      "Slipstream (2007) [tt0499570]\n",
      "Nothing (2003) [tt0298482]\n",
      "Siddhartha (1972) [tt0070689]\n",
      "Lost River (2014) [tt2366608]\n",
      "Being Human (1994) [tt0106379]\n",
      "Womb (2010) [tt1216520]\n",
      "Battle for Terra (2007) [tt0858486]\n",
      "Little Nemo: Adventures in Slumberland (1989) [tt0104740]\n",
      "6.57117988395\n",
      "\n",
      "9\n",
      "Volver (2006) [tt0441909]\n",
      "The Unborn (2009) [tt1139668]\n",
      "Damien: Omen II (1978) [tt0077394]\n",
      "The Candy Snatchers (1973) [tt0069840]\n",
      "Heartbreak Hotel (1988) [tt0095288]\n",
      "Flesh and Bone (1993) [tt0106926]\n",
      "Paranormal Activity 3 (2011) [tt1778304]\n",
      "Tormented (2009) [tt1100053]\n",
      "Immediate Family (1989) [tt0097567]\n",
      "Margot at the Wedding (2007) [tt0757361]\n",
      "6.28235294118\n",
      "\n",
      "10\n",
      "Metro (1997) [tt0119664]\n",
      "Bulletproof (1996) [tt0115783]\n",
      "Straight Time (1978) [tt0078326]\n",
      "Blood in the Streets (1973) [tt0073626]\n",
      "White Lightning (1973) [tt0070915]\n",
      "Murphy's Law (1986) [tt0091575]\n",
      "Police Story 3: Supercop (1992) [tt0104558]\n",
      "The Punisher (1989) [tt0098141]\n",
      "A Man Apart (2003) [tt0266465]\n",
      "Torque (2004) [tt0329691]\n",
      "6.19750778816\n",
      "\n",
      "11\n",
      "An Audience with Billy Connolly (1985) [tt0189377]\n",
      "Kevin Hart: Seriously Funny (2010) [tt1714196]\n",
      "Joe Rogan: Talking Monkeys in Space (2009) [tt1530890]\n",
      "Jim Gaffigan: Beyond the Pale (2006) [tt0815456]\n",
      "The Victoria's Secret Fashion Show (2012) [tt2556962]\n",
      "Putting It Together (2000) [tt0260305]\n",
      "Hey, Mr. Producer! The Musical World of Cameron Mackintosh (1998) [tt0179846]\n",
      "George Carlin: Life Is Worth Losing (2005) [tt0484855]\n",
      "Richard Pryor: Live on the Sunset Strip (1982) [tt0084597]\n",
      "Undiscovered (2005) [tt0434424]\n",
      "6.64401294498\n",
      "\n",
      "12\n",
      "Spy Hard (1996) [tt0117723]\n",
      "United 93 (2006) [tt0475276]\n",
      "Never Say Never Again (1983) [tt0086006]\n",
      "Sneakers (1992) [tt0105435]\n",
      "The Spy Who Loved Me (1977) [tt0076752]\n",
      "Firefox (1982) [tt0083943]\n",
      "Seal Team Six: The Raid on Osama Bin Laden (2012) [tt2095605]\n",
      "The Living Daylights (1987) [tt0093428]\n",
      "Executive Decision (1996) [tt0116253]\n",
      "Navy Seals (1990) [tt0100232]\n",
      "6.1081570997\n",
      "\n",
      "13\n",
      "Halloween III: Season of the Witch (1982) [tt0085636]\n",
      "Imaginary Heroes (2004) [tt0373024]\n",
      "Demon Island (2002) [tt0201844]\n",
      "Demonic (2015) [tt1841642]\n",
      "Blade (1973) [tt0069797]\n",
      "The Legend of Hell House (1973) [tt0070294]\n",
      "Fear Island (2009) [tt1109583]\n",
      "Second Sight (1989) [tt0098276]\n",
      "A Nightmare on Elm Street (2010) [tt1179056]\n",
      "Untraceable (2008) [tt0880578]\n",
      "6.07417218543\n",
      "\n",
      "14\n",
      "Criminal (2004) [tt0362526]\n",
      "Pusher (1996) [tt0117407]\n",
      "Arthur 2: On the Rocks (1988) [tt0094678]\n",
      "A Fine Mess (1986) [tt0091051]\n",
      "Wild Side (1995) [tt0114941]\n",
      "Tomcats (2001) [tt0246989]\n",
      "Gung Ho (1986) [tt0091159]\n",
      "Finding Amanda (2008) [tt0889134]\n",
      "Ulee's Gold (1997) [tt0120402]\n",
      "Money Train (1995) [tt0113845]\n",
      "6.12716346154\n",
      "\n",
      "15\n",
      "Kokoda (2006) [tt0481390]\n",
      "To End All Wars (2001) [tt0243609]\n",
      "Massacre in Rome (1973) [tt0070592]\n",
      "Glory (1989) [tt0097441]\n",
      "Rambo III (1988) [tt0095956]\n",
      "Countdown to War (1989) [tt0204980]\n",
      "MacArthur (1977) [tt0076342]\n",
      "9th Company (2005) [tt0417397]\n",
      "The Great Raid (2005) [tt0326905]\n",
      "The Pianist (2002) [tt0253474]\n",
      "6.75565819861\n",
      "\n",
      "16\n",
      "Sprung (1997) [tt0120190]\n",
      "Sightseers (2012) [tt2023690]\n",
      "Nick and Norah's Infinite Playlist (2008) [tt0981227]\n",
      "Road Trip (2000) [tt0215129]\n",
      "Micki + Maude (1984) [tt0087718]\n",
      "American Heart (1992) [tt0103670]\n",
      "Girl Fever (2002) [tt0265010]\n",
      "Bratz (2007) [tt0804452]\n",
      "Muriel's Wedding (1994) [tt0110598]\n",
      "How to Be a Player (1997) [tt0119326]\n",
      "6.02577565632\n",
      "\n",
      "17\n",
      "The Mindscape of Alan Moore (2005) [tt0410321]\n",
      "In Search of Beethoven (2009) [tt1308123]\n",
      "7 Plus Seven (1970) [tt0066356]\n",
      "21 Up (1977) [tt0075610]\n",
      "Scream Greats, Vol. 1: Tom Savini, Master of Horror Effects (1986) [tt0241929]\n",
      "Woody Allen: A Documentary (2012) [tt2397619]\n",
      "Shadows in the Dark: The Val Lewton Legacy (2005) [tt0475144]\n",
      "The Men Who Made the Movies: Howard Hawks (1973) [tt0070199]\n",
      "The Visual Bible: The Gospel of John (2003) [tt0377992]\n",
      "Fellini: I'm a Born Liar (2002) [tt0314062]\n",
      "6.98029739777\n",
      "\n",
      "18\n",
      "Boy Culture (2006) [tt0433350]\n",
      "Not Suitable for Children (2012) [tt1935065]\n",
      "House Calls (1978) [tt0077699]\n",
      "Jeffrey (1995) [tt0113464]\n",
      "Better Than Chocolate (1999) [tt0168987]\n",
      "Prelude to a Kiss (1992) [tt0105165]\n",
      "Skin Deep (1989) [tt0098343]\n",
      "It's Complicated (2009) [tt1230414]\n",
      "The Lonely Guy (1984) [tt0087635]\n",
      "The Magic of Ordinary Days (2005) [tt0406046]\n",
      "6.24863731656\n",
      "\n",
      "19\n",
      "The Chronicles of Narnia: Prince Caspian (2008) [tt0499448]\n",
      "Star Wars (1977) [tt0076759]\n",
      "Krull (1983) [tt0085811]\n",
      "Gabriel (2007) [tt0857376]\n",
      "Hercules (1997) [tt0119282]\n",
      "Metalstorm: The Destruction of Jared-Syn (1983) [tt0085935]\n",
      "Happily Ever After (1990) [tt0099733]\n",
      "Flesh+Blood (1985) [tt0089153]\n",
      "The Sword and the Sorcerer (1982) [tt0084749]\n",
      "Maleficent (2014) [tt1587310]\n",
      "6.1798053528\n",
      "\n"
     ]
    }
   ],
   "source": [
    "topic_movie_mapping = {}\n",
    "for movie_index in index_movie_mapping:\n",
    "    top_topic = lda_model.doc_topic_[movie_index].argmax()\n",
    "    top_topic_prob = lda_model.doc_topic_[movie_index][top_topic]\n",
    "    if top_topic not in topic_movie_mapping:\n",
    "        topic_movie_mapping[top_topic] = []\n",
    "    topic_movie_mapping[top_topic].append((index_movie_mapping[movie_index], top_topic_prob))\n",
    "    \n",
    "for topic in xrange(NUM_TOPICS):\n",
    "    movies = topic_movie_mapping[topic]\n",
    "    movies = sorted(movies, key=lambda x: x[1], reverse=True)\n",
    "    print topic\n",
    "    avg_rating = 0.\n",
    "    for movie_ID, _ in movies:\n",
    "        avg_rating += movie_rating_mapping[movie_ID]\n",
    "    avg_rating /= len(movies)\n",
    "    for movie_ID, _ in movies[:10]:\n",
    "        print \"%s (%d) [%s]\" % (movie_name_mapping[movie_ID], movie_year_mapping[movie_ID], movie_ID)\n",
    "    print avg_rating\n",
    "    print"
   ]
  },
  {
   "cell_type": "code",
   "execution_count": 12,
   "metadata": {
    "collapsed": false
   },
   "outputs": [
    {
     "data": {
      "text/plain": [
       "9327"
      ]
     },
     "execution_count": 12,
     "metadata": {},
     "output_type": "execute_result"
    }
   ],
   "source": [
    "len(movie_index_mapping)"
   ]
  },
  {
   "cell_type": "code",
   "execution_count": 13,
   "metadata": {
    "collapsed": false,
    "scrolled": true
   },
   "outputs": [],
   "source": [
    "# import operator\n",
    "# for word in sorted(words.keys(), key=lambda x: words[x], reverse=True)[:100]:\n",
    "#     print ' '.join([word for __ in xrange(words[word])])"
   ]
  },
  {
   "cell_type": "code",
   "execution_count": 14,
   "metadata": {
    "collapsed": false
   },
   "outputs": [],
   "source": [
    "# mapping of movie ID to set of genres\n",
    "movie_genre_mapping = {}\n",
    "\n",
    "for entry in movie_data:\n",
    "    movie_ID = entry['data']['tconst']\n",
    "    if movie_ID not in movie_genre_mapping:\n",
    "        try:\n",
    "            movie_genre_mapping[movie_ID] = set(genre for genre in entry['data']['genres'])\n",
    "        except KeyError:\n",
    "            movie_genre_mapping[movie_ID] = set()"
   ]
  },
  {
   "cell_type": "code",
   "execution_count": 15,
   "metadata": {
    "collapsed": false
   },
   "outputs": [],
   "source": [
    "# for each topic, go through and get percentage of movies with each genre\n",
    "\n",
    "topic_genre_movie_percs = []\n",
    "for topic in topic_movie_mapping:\n",
    "    # get all genres in the given topic\n",
    "    all_genres = set()\n",
    "    for movie_ID, _ in topic_movie_mapping[topic]:\n",
    "        all_genres |= movie_genre_mapping[movie_ID]\n",
    "\n",
    "    # get number of times each genre appears\n",
    "    all_genres_dict = {genre: 0 for genre in all_genres}\n",
    "    for movie_ID, _ in topic_movie_mapping[topic]:\n",
    "        for genre in movie_genre_mapping[movie_ID]:\n",
    "            all_genres_dict[genre] += 1\n",
    "\n",
    "    movies_in_topic = float(len(topic_movie_mapping[topic]))\n",
    "\n",
    "    movie_percs = []\n",
    "    for genre, count in all_genres_dict.iteritems():\n",
    "        movie_percs.append((genre, count / movies_in_topic))\n",
    "\n",
    "    topic_genre_movie_percs.append(sorted(movie_percs, key=lambda x: x[1], reverse=True))"
   ]
  },
  {
   "cell_type": "code",
   "execution_count": 16,
   "metadata": {
    "collapsed": false
   },
   "outputs": [
    {
     "data": {
      "text/plain": [
       "<matplotlib.figure.Figure at 0x41203d68>"
      ]
     },
     "metadata": {},
     "output_type": "display_data"
    },
    {
     "data": {
      "image/png": "[encoded data removed]",
      "text/plain": [
       "<matplotlib.figure.Figure at 0x111fa438>"
      ]
     },
     "metadata": {},
     "output_type": "display_data"
    },
    {
     "data": {
      "image/png": "[encoded data removed]",
      "text/plain": [
       "<matplotlib.figure.Figure at 0x417e5828>"
      ]
     },
     "metadata": {},
     "output_type": "display_data"
    },
    {
     "data": {
      "text/plain": [
       "<matplotlib.figure.Figure at 0x4146b860>"
      ]
     },
     "metadata": {},
     "output_type": "display_data"
    },
    {
     "data": {
      "image/png": "[encoded data removed]",
      "text/plain": [
       "<matplotlib.figure.Figure at 0x418fec50>"
      ]
     },
     "metadata": {},
     "output_type": "display_data"
    },
    {
     "data": {
      "image/png": "[encoded data removed]",
      "text/plain": [
       "<matplotlib.figure.Figure at 0x410a8630>"
      ]
     },
     "metadata": {},
     "output_type": "display_data"
    },
    {
     "data": {
      "text/plain": [
       "<matplotlib.figure.Figure at 0x41ad5048>"
      ]
     },
     "metadata": {},
     "output_type": "display_data"
    },
    {
     "data": {
      "image/png": "[encoded data removed]",
      "text/plain": [
       "<matplotlib.figure.Figure at 0x41b7ed68>"
      ]
     },
     "metadata": {},
     "output_type": "display_data"
    },
    {
     "data": {
      "text/plain": [
       "<matplotlib.figure.Figure at 0x41ae3668>"
      ]
     },
     "metadata": {},
     "output_type": "display_data"
    },
    {
     "data": {
      "image/png": "[encoded data removed]",
      "text/plain": [
       "<matplotlib.figure.Figure at 0x41d78908>"
      ]
     },
     "metadata": {},
     "output_type": "display_data"
    }
   ],
   "source": [
    "relevant_topics = [0, 1, 6, 7, 12, 16]\n",
    "\n",
    "# for topic in relevant_topics:\n",
    "#     print topic\n",
    "#     for entry in topic_genre_movie_percs[topic]:\n",
    "#         print entry\n",
    "#     print\n",
    "\n",
    "WANT_TOP = 6\n",
    "\n",
    "def autolabel(rects):\n",
    "    # attach some text labels\n",
    "    for rect in rects:\n",
    "        height = rect.get_height()\n",
    "        ax.text(rect.get_x()+rect.get_width()/2., 1.05*height, '%0.2f'%height,\n",
    "                ha='center', va='bottom')\n",
    "\n",
    "for topic in relevant_topics:\n",
    "    plt.figure(topic)\n",
    "    percs = [x[1] for x in topic_genre_movie_percs[topic][:WANT_TOP]]\n",
    "    labels = [x[0] for x in topic_genre_movie_percs[topic][:WANT_TOP]]\n",
    "    n = len(percs)\n",
    "    ind = np.arange(n)\n",
    "    fig, ax = plt.subplots()\n",
    "    rects1 = ax.bar(ind, percs, 0.75, color=np.random.rand(3,1))\n",
    "    ax.set_xticks(ind+0.375)\n",
    "    ax.set_xticklabels(labels)\n",
    "    ax.set_title('Topic %d Movie Genres' % topic)\n",
    "    ax.set_xlabel('Top 6 Genres')\n",
    "    ax.set_ylabel('Proportion of Movies')\n",
    "    ax.set_ylim([0, 1])\n",
    "    autolabel(rects1)\n",
    "    plt.savefig(\"%d.png\" % topic, dpi=300)"
   ]
  },
  {
   "cell_type": "code",
   "execution_count": null,
   "metadata": {
    "collapsed": true
   },
   "outputs": [],
   "source": []
  }
 ],
 "metadata": {
  "kernelspec": {
   "display_name": "Python 2",
   "language": "python",
   "name": "python2"
  },
  "language_info": {
   "codemirror_mode": {
    "name": "ipython",
    "version": 2
   },
   "file_extension": ".py",
   "mimetype": "text/x-python",
   "name": "python",
   "nbconvert_exporter": "python",
   "pygments_lexer": "ipython2",
   "version": "2.7.8"
  }
 },
 "nbformat": 4,
 "nbformat_minor": 0
}
