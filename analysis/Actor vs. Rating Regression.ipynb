{
 "cells": [
  {
   "cell_type": "code",
   "execution_count": 1,
   "metadata": {
    "collapsed": false
   },
   "outputs": [],
   "source": [
    "from json import loads, dumps\n",
    "\n",
    "from sklearn.linear_model import LinearRegression, Lasso, LassoCV\n",
    "from sklearn.cross_validation import KFold\n",
    "\n",
    "import numpy as np\n",
    "\n",
    "from sklearn.metrics import mean_squared_error, r2_score\n",
    "\n",
    "from math import sqrt\n",
    "\n",
    "from time import time\n",
    "\n",
    "from scipy.sparse import csc_matrix\n",
    "\n",
    "MOVIE_DATA_LOC = '../data/movies.bigdata'\n",
    "MOVIE_ACTOR_DATA_LOC = '../data/movie_casts.bigdata'"
   ]
  },
  {
   "cell_type": "code",
   "execution_count": 2,
   "metadata": {
    "collapsed": true
   },
   "outputs": [],
   "source": [
    "# read in movie data\n",
    "movie_data = []\n",
    "with open(MOVIE_DATA_LOC) as f:\n",
    "    for line in f:\n",
    "        movie_data.append(loads(line))"
   ]
  },
  {
   "cell_type": "code",
   "execution_count": 3,
   "metadata": {
    "collapsed": false
   },
   "outputs": [],
   "source": [
    "# read in movie actor data\n",
    "movie_actor_data = []\n",
    "with open(MOVIE_ACTOR_DATA_LOC) as f:\n",
    "    for line in f:\n",
    "        movie_actor_data.append(tuple(line.rstrip().split(',')))"
   ]
  },
  {
   "cell_type": "code",
   "execution_count": 4,
   "metadata": {
    "collapsed": false
   },
   "outputs": [
    {
     "name": "stdout",
     "output_type": "stream",
     "text": [
      "221334 221334 9624 9868 9868 9409\n",
      "221334 221334 9624 9868 9868 9409\n"
     ]
    }
   ],
   "source": [
    "# mapping of actor_id to name\n",
    "actor_name_mapping = {}\n",
    "\n",
    "# mapping of actor_id to index\n",
    "actor_index_mapping = {}\n",
    "\n",
    "# mapping of movie_id to set(actor_ids)\n",
    "movie_cast_mapping = {}\n",
    "\n",
    "actor_last_index = 0\n",
    "for entry in movie_actor_data:\n",
    "    movie_ID, actor_ID, actor_name = entry\n",
    "    if actor_ID not in actor_name_mapping:\n",
    "        actor_name_mapping[actor_ID] = actor_name\n",
    "    if actor_ID not in actor_index_mapping:\n",
    "        actor_index_mapping[actor_ID] = actor_last_index\n",
    "        actor_last_index += 1\n",
    "    if movie_ID not in movie_cast_mapping:\n",
    "        movie_cast_mapping[movie_ID] = set()\n",
    "    movie_cast_mapping[movie_ID].add(actor_ID)\n",
    "    \n",
    "# mapping of movie_id to name\n",
    "movie_name_mapping = {}\n",
    "\n",
    "# mapping of movie_id to rating\n",
    "movie_rating_mapping = {}\n",
    "\n",
    "# mapping of movie_id to index\n",
    "movie_index_mapping = {}\n",
    "\n",
    "movie_last_index = 0\n",
    "for entry in movie_data:\n",
    "    try:\n",
    "        movie_rating = float(entry['data']['rating'])\n",
    "    except KeyError:\n",
    "        movie_rating = -1. # sentinel value for indicating lack of rating\n",
    "    movie_ID = entry['data']['tconst']\n",
    "    movie_name = entry['data']['title']\n",
    "    if movie_ID not in movie_name_mapping:\n",
    "        movie_name_mapping[movie_ID] = movie_name\n",
    "    if movie_ID not in movie_rating_mapping:\n",
    "        movie_rating_mapping[movie_ID] = movie_rating\n",
    "    if movie_ID not in movie_index_mapping:\n",
    "        # needs to have a rating and a cast\n",
    "        if (movie_rating_mapping[movie_ID] != -1.) and (movie_ID in movie_cast_mapping):\n",
    "            # year filter\n",
    "            movie_year = int(entry['data']['year'])\n",
    "            if 0 <= movie_year:\n",
    "                movie_index_mapping[movie_ID] = movie_last_index\n",
    "                movie_last_index += 1\n",
    "\n",
    "print len(actor_name_mapping), len(actor_index_mapping), len(movie_cast_mapping), len(movie_name_mapping), len(movie_rating_mapping), len(movie_index_mapping)"
   ]
  },
  {
   "cell_type": "code",
   "execution_count": 5,
   "metadata": {
    "collapsed": false
   },
   "outputs": [],
   "source": [
    "def rmse(test_classes_true, test_classes_pred):\n",
    "    return sqrt(mean_squared_error(test_classes_true, test_classes_pred))"
   ]
  },
  {
   "cell_type": "code",
   "execution_count": 6,
   "metadata": {
    "collapsed": false
   },
   "outputs": [],
   "source": [
    "def predict(train_feature_matrix, train_classes, test_feature_matrix, test_classes_real, classifier):\n",
    "    classifier.fit(train_feature_matrix, train_classes)\n",
    "    test_classes_pred = classifier.predict(test_feature_matrix)\n",
    "    return test_classes_pred, test_classes_real"
   ]
  },
  {
   "cell_type": "code",
   "execution_count": 7,
   "metadata": {
    "collapsed": false
   },
   "outputs": [],
   "source": [
    "# cross validation predict\n",
    "def cv_predict(feature_matrix, classes, classifier, k):\n",
    "    kf = KFold(len(classes), n_folds=k)\n",
    "    results = []\n",
    "    for train, test in kf:\n",
    "        train_feature_matrix = feature_matrix[train]\n",
    "        train_classes = classes[train]\n",
    "        test_feature_matrix = feature_matrix[test]\n",
    "        test_classes_real = classes[test]\n",
    "        results.append(predict(train_feature_matrix, train_classes, test_feature_matrix, test_classes_real, classifier))\n",
    "    return results"
   ]
  },
  {
   "cell_type": "code",
   "execution_count": 8,
   "metadata": {
    "collapsed": false
   },
   "outputs": [],
   "source": [
    "# prepare binary feature matrix, rows = movies, columns = actors\n",
    "matrix = np.empty(shape=(len(movie_index_mapping), len(actor_index_mapping)), dtype=np.uint8)\n",
    "matrix.fill(0)\n",
    "\n",
    "ratings = np.empty(shape=len(movie_index_mapping), dtype=float)\n",
    "\n",
    "for movie_ID in movie_index_mapping:\n",
    "    movie_index = movie_index_mapping[movie_ID]\n",
    "    for actor_ID in movie_cast_mapping[movie_ID]:\n",
    "        actor_index = actor_index_mapping[actor_ID]\n",
    "        matrix[movie_index, actor_index] = 1\n",
    "    ratings[movie_index] = movie_rating_mapping[movie_ID]\n",
    "    \n",
    "smatrix = csc_matrix(matrix)"
   ]
  },
  {
   "cell_type": "code",
   "execution_count": 10,
   "metadata": {
    "collapsed": false
   },
   "outputs": [
    {
     "name": "stdout",
     "output_type": "stream",
     "text": [
      "1.13005315916 -0.235606378468 41.6980001926\n",
      "Lasso(alpha=0.01, copy_X=True, fit_intercept=True, max_iter=1000,\n",
      "   normalize=False, positive=False, precompute='auto', tol=0.0001,\n",
      "   warm_start=False)\n",
      "1.13005315916 -0.235606378468 41.6980001926\n",
      "Lasso(alpha=0.01, copy_X=True, fit_intercept=True, max_iter=1000,\n",
      "   normalize=False, positive=False, precompute='auto', tol=0.0001,\n",
      "   warm_start=False)\n"
     ]
    }
   ],
   "source": [
    "regressor = Lasso(alpha=0.01)\n",
    "\n",
    "K = 10\n",
    "\n",
    "total_rmse = 0\n",
    "total_r2_score = 0\n",
    "start_time = time()\n",
    "\n",
    "for pred_values, true_values in cv_predict(smatrix, ratings, regressor, K):\n",
    "    total_rmse += rmse(true_values, pred_values)\n",
    "    total_r2_score += r2_score(true_values, pred_values)\n",
    "    \n",
    "avg_rmse = total_rmse / K\n",
    "avg_r2_score = total_r2_score / K\n",
    "\n",
    "print avg_rmse, avg_r2_score, time() - start_time\n",
    "print regressor"
   ]
  },
  {
   "cell_type": "code",
   "execution_count": null,
   "metadata": {
    "collapsed": false
   },
   "outputs": [],
   "source": []
  }
 ],
 "metadata": {
  "kernelspec": {
   "display_name": "Python 2",
   "language": "python",
   "name": "python2"
  },
  "language_info": {
   "codemirror_mode": {
    "name": "ipython",
    "version": 2
   },
   "file_extension": ".py",
   "mimetype": "text/x-python",
   "name": "python",
   "nbconvert_exporter": "python",
   "pygments_lexer": "ipython2",
   "version": "2.7.8"
  }
 },
 "nbformat": 4,
 "nbformat_minor": 0
}
