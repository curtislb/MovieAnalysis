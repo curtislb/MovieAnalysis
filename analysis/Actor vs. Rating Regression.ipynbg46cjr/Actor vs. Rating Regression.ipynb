{
 "cells": [
  {
   "cell_type": "code",
   "execution_count": 41,
   "metadata": {
    "collapsed": false
   },
   "outputs": [],
   "source": [
    "from json import loads, dumps\n",
    "\n",
    "from sklearn.linear_model import LinearRegression\n",
    "from sklearn.cross_validation import KFold\n",
    "\n",
    "import numpy as np\n",
    "\n",
    "from sklearn.metrics import mean_squared_error, r2_score\n",
    "\n",
    "from math import sqrt\n",
    "\n",
    "from time import time\n",
    "\n",
    "MOVIE_DATA_LOC = '../data/movies.bigdata'\n",
    "MOVIE_ACTOR_DATA_LOC = '../data/movie_casts.bigdata'"
   ]
  },
  {
   "cell_type": "code",
   "execution_count": null,
   "metadata": {
    "collapsed": true
   },
   "outputs": [],
   "source": [
    "# read in movie data\n",
    "movie_data = []\n",
    "with open(MOVIE_DATA_LOC) as f:\n",
    "    for line in f:\n",
    "        movie_data.append(loads(line))"
   ]
  },
  {
   "cell_type": "code",
   "execution_count": null,
   "metadata": {
    "collapsed": false
   },
   "outputs": [],
   "source": [
    "# read in movie actor data\n",
    "movie_actor_data = []\n",
    "with open(MOVIE_ACTOR_DATA_LOC) as f:\n",
    "    for line in f:\n",
    "        movie_actor_data.append(tuple(line.rstrip().split(',')))"
   ]
  },
  {
   "cell_type": "code",
   "execution_count": null,
   "metadata": {
    "collapsed": false
   },
   "outputs": [],
   "source": [
    "# mapping of actor_id to (index, name)\n",
    "actor_id_mapping = {}\n",
    "\n",
    "# mapping of index to (actor_id, name)\n",
    "actor_index_mapping = {}\n",
    "\n",
    "# mapping of movie_id to (index, title, set(actor_ids...), rating)\n",
    "movie_id_mapping = {}\n",
    "\n",
    "# mapping of index to (movie_id, title, set(actor_ids...), rating)\n",
    "movie_index_mapping = {}\n",
    "\n",
    "actor_last_index = 0\n",
    "movie_last_index = 0\n",
    "for movie in movie_data:\n",
    "    if ('cast_summary' in movie['data']) and ('rating' in movie['data']):\n",
    "        actor_ids = set()\n",
    "        for cast_member in movie['data']['cast_summary']:\n",
    "            actor_id = cast_member['name']['nconst']\n",
    "            actor_ids.add(actor_id)\n",
    "            if actor_id not in actor_id_mapping:\n",
    "                actor_name = cast_member['name']['name']\n",
    "                actor_id_mapping[actor_id] = (actor_last_index, actor_name)\n",
    "                actor_index_mapping[actor_last_index] = (actor_id, actor_name)\n",
    "                actor_last_index += 1\n",
    "        movie_id = movie['data']['tconst']\n",
    "        if movie_id not in movie_id_mapping: # some movie_IDs are repeated for some reason...\n",
    "            movie_id_mapping[movie_id] = (movie_last_index, movie['data']['title'], actor_ids, movie['data']['rating'])\n",
    "            movie_index_mapping[movie_last_index] = (movie_id, movie['data']['title'], actor_ids, movie['data']['rating'])\n",
    "            movie_last_index += 1\n"
   ]
  },
  {
   "cell_type": "code",
   "execution_count": 33,
   "metadata": {
    "collapsed": false
   },
   "outputs": [],
   "source": [
    "def rmse(test_classes_true, test_classes_pred):\n",
    "    return sqrt(mean_squared_error(test_classes_true, test_classes_pred))"
   ]
  },
  {
   "cell_type": "code",
   "execution_count": 34,
   "metadata": {
    "collapsed": false
   },
   "outputs": [],
   "source": [
    "def predict(train_feature_matrix, train_classes, test_feature_matrix, test_classes_real, classifier):\n",
    "    classifier.fit(train_feature_matrix, train_classes)\n",
    "    test_classes_pred = classifier.predict(test_feature_matrix)\n",
    "    return test_classes_pred, test_classes_real"
   ]
  },
  {
   "cell_type": "code",
   "execution_count": 35,
   "metadata": {
    "collapsed": false
   },
   "outputs": [],
   "source": [
    "# cross validation predict\n",
    "def cv_predict(feature_matrix, classes, classifier, k):\n",
    "    kf = KFold(len(classes), n_folds=k)\n",
    "    results = []\n",
    "    for train, test in kf:\n",
    "        train_feature_matrix = feature_matrix[train]\n",
    "        train_classes = classes[train]\n",
    "        test_feature_matrix = feature_matrix[test]\n",
    "        test_classes_real = classes[test]\n",
    "        results.append(predict(train_feature_matrix, train_classes, test_feature_matrix, test_classes_real, classifier))\n",
    "    return results"
   ]
  },
  {
   "cell_type": "code",
   "execution_count": 39,
   "metadata": {
    "collapsed": false
   },
   "outputs": [],
   "source": [
    "# prepare binary feature matrix, rows = movies, columns = actors\n",
    "matrix = np.empty(shape=(len(movie_id_mapping), len(actor_id_mapping)), dtype=np.uint8)\n",
    "matrix.fill(-1)\n",
    "\n",
    "ratings = np.empty(shape=len(movie_id_mapping), dtype=float)\n",
    "\n",
    "for movie_id in movie_id_mapping:\n",
    "    movie_index = movie_id_mapping[movie_id][0]\n",
    "    for actor_id in movie_id_mapping[movie_id][2]:\n",
    "        actor_index = actor_id_mapping[actor_id][0]\n",
    "        matrix[movie_index, actor_index] = 1\n",
    "    ratings[movie_index] = movie_id_mapping[movie_id][3]"
   ]
  },
  {
   "cell_type": "code",
   "execution_count": 40,
   "metadata": {
    "collapsed": false
   },
   "outputs": [
    {
     "ename": "ValueError",
     "evalue": "Cannot have number of folds n_folds=5 greater than the number of samples: 0.",
     "output_type": "error",
     "traceback": [
      "\u001b[1;31m---------------------------------------------------------------------------\u001b[0m",
      "\u001b[1;31mValueError\u001b[0m                                Traceback (most recent call last)",
      "\u001b[1;32m<ipython-input-40-b56048ae0057>\u001b[0m in \u001b[0;36m<module>\u001b[1;34m()\u001b[0m\n\u001b[0;32m      7\u001b[0m \u001b[0mstart_time\u001b[0m \u001b[1;33m=\u001b[0m \u001b[0mtime\u001b[0m\u001b[1;33m(\u001b[0m\u001b[1;33m)\u001b[0m\u001b[1;33m\u001b[0m\u001b[0m\n\u001b[0;32m      8\u001b[0m \u001b[1;33m\u001b[0m\u001b[0m\n\u001b[1;32m----> 9\u001b[1;33m \u001b[1;32mfor\u001b[0m \u001b[0mpred_values\u001b[0m\u001b[1;33m,\u001b[0m \u001b[0mtrue_values\u001b[0m \u001b[1;32min\u001b[0m \u001b[0mcv_predict\u001b[0m\u001b[1;33m(\u001b[0m\u001b[0mmatrix\u001b[0m\u001b[1;33m[\u001b[0m\u001b[1;33m:\u001b[0m\u001b[1;36m100\u001b[0m\u001b[1;33m]\u001b[0m\u001b[1;33m,\u001b[0m \u001b[0mratings\u001b[0m\u001b[1;33m,\u001b[0m \u001b[0mregressor\u001b[0m\u001b[1;33m,\u001b[0m \u001b[0mK\u001b[0m\u001b[1;33m)\u001b[0m\u001b[1;33m:\u001b[0m\u001b[1;33m\u001b[0m\u001b[0m\n\u001b[0m\u001b[0;32m     10\u001b[0m     \u001b[0mtotal_rmse\u001b[0m \u001b[1;33m+=\u001b[0m \u001b[0mrmse\u001b[0m\u001b[1;33m(\u001b[0m\u001b[0mtrue_values\u001b[0m\u001b[1;33m,\u001b[0m \u001b[0mpred_values\u001b[0m\u001b[1;33m)\u001b[0m\u001b[1;33m\u001b[0m\u001b[0m\n\u001b[0;32m     11\u001b[0m     \u001b[0mtotal_r2_score\u001b[0m \u001b[1;33m+=\u001b[0m \u001b[0mr2_score\u001b[0m\u001b[1;33m(\u001b[0m\u001b[0mtrue_values\u001b[0m\u001b[1;33m,\u001b[0m \u001b[0mpred_values\u001b[0m\u001b[1;33m)\u001b[0m\u001b[1;33m\u001b[0m\u001b[0m\n",
      "\u001b[1;32m<ipython-input-35-7e38a32e0486>\u001b[0m in \u001b[0;36mcv_predict\u001b[1;34m(feature_matrix, classes, classifier, k)\u001b[0m\n\u001b[0;32m      1\u001b[0m \u001b[1;31m# cross validation predict\u001b[0m\u001b[1;33m\u001b[0m\u001b[1;33m\u001b[0m\u001b[0m\n\u001b[0;32m      2\u001b[0m \u001b[1;32mdef\u001b[0m \u001b[0mcv_predict\u001b[0m\u001b[1;33m(\u001b[0m\u001b[0mfeature_matrix\u001b[0m\u001b[1;33m,\u001b[0m \u001b[0mclasses\u001b[0m\u001b[1;33m,\u001b[0m \u001b[0mclassifier\u001b[0m\u001b[1;33m,\u001b[0m \u001b[0mk\u001b[0m\u001b[1;33m)\u001b[0m\u001b[1;33m:\u001b[0m\u001b[1;33m\u001b[0m\u001b[0m\n\u001b[1;32m----> 3\u001b[1;33m     \u001b[0mkf\u001b[0m \u001b[1;33m=\u001b[0m \u001b[0mKFold\u001b[0m\u001b[1;33m(\u001b[0m\u001b[0mlen\u001b[0m\u001b[1;33m(\u001b[0m\u001b[0mclasses\u001b[0m\u001b[1;33m)\u001b[0m\u001b[1;33m,\u001b[0m \u001b[0mn_folds\u001b[0m\u001b[1;33m=\u001b[0m\u001b[0mk\u001b[0m\u001b[1;33m)\u001b[0m\u001b[1;33m\u001b[0m\u001b[0m\n\u001b[0m\u001b[0;32m      4\u001b[0m     \u001b[0mresults\u001b[0m \u001b[1;33m=\u001b[0m \u001b[1;33m[\u001b[0m\u001b[1;33m]\u001b[0m\u001b[1;33m\u001b[0m\u001b[0m\n\u001b[0;32m      5\u001b[0m     \u001b[1;32mfor\u001b[0m \u001b[0mtrain\u001b[0m\u001b[1;33m,\u001b[0m \u001b[0mtest\u001b[0m \u001b[1;32min\u001b[0m \u001b[0mkf\u001b[0m\u001b[1;33m:\u001b[0m\u001b[1;33m\u001b[0m\u001b[0m\n",
      "\u001b[1;32mC:\\Users\\Lucas Mayer\\Anaconda\\lib\\site-packages\\sklearn\\cross_validation.pyc\u001b[0m in \u001b[0;36m__init__\u001b[1;34m(self, n, n_folds, indices, shuffle, random_state)\u001b[0m\n\u001b[0;32m    316\u001b[0m     def __init__(self, n, n_folds=3, indices=None, shuffle=False,\n\u001b[0;32m    317\u001b[0m                  random_state=None):\n\u001b[1;32m--> 318\u001b[1;33m         \u001b[0msuper\u001b[0m\u001b[1;33m(\u001b[0m\u001b[0mKFold\u001b[0m\u001b[1;33m,\u001b[0m \u001b[0mself\u001b[0m\u001b[1;33m)\u001b[0m\u001b[1;33m.\u001b[0m\u001b[0m__init__\u001b[0m\u001b[1;33m(\u001b[0m\u001b[0mn\u001b[0m\u001b[1;33m,\u001b[0m \u001b[0mn_folds\u001b[0m\u001b[1;33m,\u001b[0m \u001b[0mindices\u001b[0m\u001b[1;33m,\u001b[0m \u001b[0mshuffle\u001b[0m\u001b[1;33m,\u001b[0m \u001b[0mrandom_state\u001b[0m\u001b[1;33m)\u001b[0m\u001b[1;33m\u001b[0m\u001b[0m\n\u001b[0m\u001b[0;32m    319\u001b[0m         \u001b[0mself\u001b[0m\u001b[1;33m.\u001b[0m\u001b[0midxs\u001b[0m \u001b[1;33m=\u001b[0m \u001b[0mnp\u001b[0m\u001b[1;33m.\u001b[0m\u001b[0marange\u001b[0m\u001b[1;33m(\u001b[0m\u001b[0mn\u001b[0m\u001b[1;33m)\u001b[0m\u001b[1;33m\u001b[0m\u001b[0m\n\u001b[0;32m    320\u001b[0m         \u001b[1;32mif\u001b[0m \u001b[0mshuffle\u001b[0m\u001b[1;33m:\u001b[0m\u001b[1;33m\u001b[0m\u001b[0m\n",
      "\u001b[1;32mC:\\Users\\Lucas Mayer\\Anaconda\\lib\\site-packages\\sklearn\\cross_validation.pyc\u001b[0m in \u001b[0;36m__init__\u001b[1;34m(self, n, n_folds, indices, shuffle, random_state)\u001b[0m\n\u001b[0;32m    251\u001b[0m             raise ValueError(\n\u001b[0;32m    252\u001b[0m                 (\"Cannot have number of folds n_folds={0} greater\"\n\u001b[1;32m--> 253\u001b[1;33m                  \" than the number of samples: {1}.\").format(n_folds, n))\n\u001b[0m\u001b[0;32m    254\u001b[0m \u001b[1;33m\u001b[0m\u001b[0m\n\u001b[0;32m    255\u001b[0m         \u001b[1;32mif\u001b[0m \u001b[1;32mnot\u001b[0m \u001b[0misinstance\u001b[0m\u001b[1;33m(\u001b[0m\u001b[0mshuffle\u001b[0m\u001b[1;33m,\u001b[0m \u001b[0mbool\u001b[0m\u001b[1;33m)\u001b[0m\u001b[1;33m:\u001b[0m\u001b[1;33m\u001b[0m\u001b[0m\n",
      "\u001b[1;31mValueError\u001b[0m: Cannot have number of folds n_folds=5 greater than the number of samples: 0."
     ]
    }
   ],
   "source": [
    "regressor = LinearRegression()\n",
    "\n",
    "K = 5\n",
    "\n",
    "total_rmse = 0\n",
    "total_r2_score = 0\n",
    "start_time = time()\n",
    "\n",
    "for pred_values, true_values in cv_predict(matrix[:100], ratings, regressor, K):\n",
    "    total_rmse += rmse(true_values, pred_values)\n",
    "    total_r2_score += r2_score(true_values, pred_values)\n",
    "    \n",
    "avg_rmse = total_rmse / K\n",
    "avg_r2_score = total_r2_score / K\n",
    "\n",
    "print avg_rmse, avg_r2_score, time() - start_time"
   ]
  },
  {
   "cell_type": "code",
   "execution_count": null,
   "metadata": {
    "collapsed": false
   },
   "outputs": [],
   "source": []
  }
 ],
 "metadata": {
  "kernelspec": {
   "display_name": "Python 2",
   "language": "python",
   "name": "python2"
  },
  "language_info": {
   "codemirror_mode": {
    "name": "ipython",
    "version": 2
   },
   "file_extension": ".py",
   "mimetype": "text/x-python",
   "name": "python",
   "nbconvert_exporter": "python",
   "pygments_lexer": "ipython2",
   "version": "2.7.8"
  }
 },
 "nbformat": 4,
 "nbformat_minor": 0
}
