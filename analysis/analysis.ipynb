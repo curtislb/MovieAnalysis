{
 "metadata": {
  "name": "",
  "signature": "sha256:899aad0ea4ec5218e152d8b8328930225997781c9a4e661494e54fedd3cf452a"
 },
 "nbformat": 3,
 "nbformat_minor": 0,
 "worksheets": [
  {
   "cells": [
    {
     "cell_type": "code",
     "collapsed": false,
     "input": [
      "from json import loads, dumps\n",
      "\n",
      "from sklearn.linear_model import LinearRegression\n",
      "from sklearn.cross_validation import KFold\n",
      "\n",
      "import numpy as np\n",
      "\n",
      "from sklearn.metrics import mean_squared_error, r2_score\n",
      "\n",
      "from math import sqrt\n",
      "\n",
      "from time import time\n",
      "\n",
      "MOVIE_DATA_LOC = '../data/movies.bigdata'"
     ],
     "language": "python",
     "metadata": {},
     "outputs": [],
     "prompt_number": 2
    },
    {
     "cell_type": "code",
     "collapsed": false,
     "input": [
      "movie_data = []\n",
      "with open(MOVIE_DATA_LOC) as f:\n",
      "    for line in f:\n",
      "        movie_data.append(loads(line))"
     ],
     "language": "python",
     "metadata": {},
     "outputs": [],
     "prompt_number": 3
    },
    {
     "cell_type": "code",
     "collapsed": false,
     "input": [
      "def rmse(test_classes_true, test_classes_pred):\n",
      "    return sqrt(mean_squared_error(test_classes_true, test_classes_pred))"
     ],
     "language": "python",
     "metadata": {},
     "outputs": [],
     "prompt_number": 4
    },
    {
     "cell_type": "code",
     "collapsed": false,
     "input": [
      "def pprint(json_data):\n",
      "    print dumps(json_data, indent=4, separators=(',', ': '))"
     ],
     "language": "python",
     "metadata": {},
     "outputs": [],
     "prompt_number": 5
    },
    {
     "cell_type": "code",
     "collapsed": false,
     "input": [
      "# mapping of actor_id to (index, name)\n",
      "actor_id_mapping = {}\n",
      "\n",
      "# mapping if index to (actor_id, name)\n",
      "actor_index_mapping = {}\n",
      "\n",
      "# mapping of movie_id to (index, title, set(actor_ids...), rating)\n",
      "movie_id_mapping = {}\n",
      "\n",
      "# mapping of index to (movie_id, title, set(actor_ids...), rating)\n",
      "movie_index_mapping = {}\n",
      "\n",
      "actor_last_index = 0\n",
      "movie_last_index = 0\n",
      "for movie in movie_data:\n",
      "    if ('cast_summary' in movie['data']) and ('rating' in movie['data']):\n",
      "        actor_ids = set()\n",
      "        for cast_member in movie['data']['cast_summary']:\n",
      "            actor_id = cast_member['name']['nconst']\n",
      "            actor_ids.add(actor_id)\n",
      "            if actor_id not in actor_id_mapping:\n",
      "                actor_name = cast_member['name']['name']\n",
      "                actor_id_mapping[actor_id] = (actor_last_index, actor_name)\n",
      "                actor_index_mapping[actor_last_index] = (actor_id, actor_name)\n",
      "                actor_last_index += 1\n",
      "        movie_id = movie['data']['tconst']\n",
      "        if movie_id not in movie_id_mapping: # some movie_IDs are repeated for some reason...\n",
      "            movie_id_mapping[movie_id] = (movie_last_index, movie['data']['title'], actor_ids, movie['data']['rating'])\n",
      "            movie_index_mapping[movie_last_index] = (movie_id, movie['data']['title'], actor_ids, movie['data']['rating'])\n",
      "            movie_last_index += 1\n"
     ],
     "language": "python",
     "metadata": {},
     "outputs": [],
     "prompt_number": 6
    },
    {
     "cell_type": "code",
     "collapsed": false,
     "input": [
      "def predict(train_feature_matrix, train_classes, test_feature_matrix, test_classes_real, classifier):\n",
      "    classifier.fit(train_feature_matrix, train_classes)\n",
      "    test_classes_pred = classifier.predict(test_feature_matrix)\n",
      "    return test_classes_pred, test_classes_real"
     ],
     "language": "python",
     "metadata": {},
     "outputs": [],
     "prompt_number": 7
    },
    {
     "cell_type": "code",
     "collapsed": false,
     "input": [
      "# cross validation predict\n",
      "def cv_predict(feature_matrix, classes, classifier, k):\n",
      "    kf = KFold(len(classes), n_folds=k)\n",
      "    results = []\n",
      "    for train, test in kf:\n",
      "        train_feature_matrix = feature_matrix[train]\n",
      "        train_classes = classes[train]\n",
      "        test_feature_matrix = feature_matrix[test]\n",
      "        test_classes_real = classes[test]\n",
      "        results.append(predict(train_feature_matrix, train_classes, test_feature_matrix, test_classes_real, classifier))\n",
      "    return results"
     ],
     "language": "python",
     "metadata": {},
     "outputs": [],
     "prompt_number": 8
    },
    {
     "cell_type": "code",
     "collapsed": false,
     "input": [
      "# prepare binary feature matrix, rows = movies, columns = actors\n",
      "matrix = np.empty(shape=(len(movie_id_mapping), len(actor_id_mapping)), dtype=np.uint8)\n",
      "matrix.fill(-1)\n",
      "\n",
      "ratings = np.empty(shape=len(movie_id_mapping), dtype=float)\n",
      "\n",
      "for movie_id in movie_id_mapping:\n",
      "    movie_index = movie_id_mapping[movie_id][0]\n",
      "    for actor_id in movie_id_mapping[movie_id][2]:\n",
      "        actor_index = actor_id_mapping[actor_id][0]\n",
      "        matrix[movie_index, actor_index] = 1\n",
      "    ratings[movie_index] = movie_id_mapping[movie_id][3]"
     ],
     "language": "python",
     "metadata": {},
     "outputs": [],
     "prompt_number": 11
    },
    {
     "cell_type": "code",
     "collapsed": false,
     "input": [
      "regressor = LinearRegression()\n",
      "\n",
      "K = 5\n",
      "\n",
      "total_rmse = 0\n",
      "total_r2_score = 0\n",
      "start_time = time()\n",
      "\n",
      "for pred_values, true_values in cv_predict(matrix, ratings, regressor, K):\n",
      "    total_rmse += rmse(true_values, pred_values)\n",
      "    total_r2_score += r2_score(true_values, pred_values)\n",
      "    \n",
      "avg_rmse = total_rmse / K\n",
      "avg_r2_score = total_r2_score / K\n",
      "\n",
      "print avg_rmse, avg_r2_score, time() - start_time"
     ],
     "language": "python",
     "metadata": {},
     "outputs": [
      {
       "output_type": "stream",
       "stream": "stdout",
       "text": [
        "2.85427722152e+13 -8.0587005462e+26 1550.96899986\n"
       ]
      }
     ],
     "prompt_number": 15
    },
    {
     "cell_type": "code",
     "collapsed": false,
     "input": [],
     "language": "python",
     "metadata": {},
     "outputs": []
    }
   ],
   "metadata": {}
  }
 ]
}