{
 "cells": [
  {
   "cell_type": "code",
   "execution_count": 1,
   "metadata": {
    "collapsed": false
   },
   "outputs": [],
   "source": [
    "%matplotlib inline\n",
    "\n",
    "import numpy as np\n",
    "from time import time\n",
    "import matplotlib.pyplot as plt\n",
    "\n",
    "from sklearn.linear_model import *\n",
    "from sklearn.cross_validation import KFold\n",
    "\n",
    "from sklearn.metrics import mean_squared_error, r2_score\n",
    "\n",
    "from math import sqrt\n",
    "\n",
    "STORYLINES_LOC = '../data/movie_storylines.bigdata'"
   ]
  },
  {
   "cell_type": "code",
   "execution_count": 2,
   "metadata": {
    "collapsed": false
   },
   "outputs": [],
   "source": [
    "# read in storylines, ignore movies with no storyline\n",
    "storylines = {}\n",
    "with open(STORYLINES_LOC) as f:\n",
    "    for line in f:\n",
    "        data = line.rstrip().split('|')\n",
    "        if data[1] != '':\n",
    "            if data[0] not in storylines:\n",
    "                storylines[data[0]] = data[1]"
   ]
  },
  {
   "cell_type": "code",
   "execution_count": 3,
   "metadata": {
    "collapsed": true
   },
   "outputs": [],
   "source": [
    "import nltk, re\n",
    "from nltk import word_tokenize\n",
    "from nltk.corpus import stopwords\n",
    "\n",
    "chars = ['{','}','#','%','&','\\(','\\)','\\[','\\]','<','>',',', '!', '.', ';',\n",
    "'?', '*', '\\\\', '\\/', '~', '_','|','=','+','^',':','\\\"','\\'','@','-']"
   ]
  },
  {
   "cell_type": "code",
   "execution_count": 4,
   "metadata": {
    "collapsed": false
   },
   "outputs": [],
   "source": [
    "# get movie name associated with each ID\n",
    "from json import loads\n",
    "MOVIE_DATA_LOC = '../data/movies.bigdata'\n",
    "\n",
    "# read in movie data\n",
    "movie_data = []\n",
    "with open(MOVIE_DATA_LOC) as f:\n",
    "    for line in f:\n",
    "        movie_data.append(loads(line))\n",
    "        \n",
    "# mapping of movie_id to name\n",
    "movie_name_mapping = {}\n",
    "movie_year_mapping = {}\n",
    "movie_rating_mapping = {}\n",
    "\n",
    "for entry in movie_data:\n",
    "    movie_ID = entry['data']['tconst']\n",
    "    if movie_ID not in movie_name_mapping:\n",
    "        movie_name_mapping[movie_ID] = entry['data']['title']\n",
    "        try:\n",
    "            movie_year_mapping[movie_ID] = int(entry['data']['year'])\n",
    "        except ValueError:\n",
    "            movie_year_mapping[movie_ID] = -1\n",
    "        try:\n",
    "            movie_rating_mapping[movie_ID] = float(entry['data']['rating'])\n",
    "        except KeyError:\n",
    "            movie_rating_mapping[movie_ID] = -1."
   ]
  },
  {
   "cell_type": "code",
   "execution_count": 5,
   "metadata": {
    "collapsed": false
   },
   "outputs": [],
   "source": [
    "MIN_NUM_TOKENS = 5\n",
    "\n",
    "# from Assignment 1 code\n",
    "porter = nltk.PorterStemmer() # also lancaster stemmer\n",
    "wnl = nltk.WordNetLemmatizer()\n",
    "stopWords = stopwords.words(\"english\")\n",
    "words = {}\n",
    "movie_tokens = {}\n",
    "movie_index_mapping = {}\n",
    "index_movie_mapping = {}\n",
    "\n",
    "# get words and counts\n",
    "movie_last_index = 0\n",
    "for movie_ID, storyline in storylines.iteritems():\n",
    "    storyline = storyline.decode('latin1')\n",
    "    # remove noisy characters; tokenize\n",
    "    raw = re.sub('[%s]' % ''.join(chars), ' ', storyline)\n",
    "    tokens = word_tokenize(raw)\n",
    "    # convert to lower case\n",
    "    tokens = [w.lower() for w in tokens]\n",
    "    tokens = [w for w in tokens if w not in stopWords]\n",
    "    tokens = [wnl.lemmatize(t) for t in tokens]\n",
    "    tokens = [porter.stem(t) for t in tokens]\n",
    "    \n",
    "    # only want some tokens\n",
    "    if len(tokens) >= MIN_NUM_TOKENS:\n",
    "        if movie_ID not in movie_index_mapping:\n",
    "            if movie_ID in movie_year_mapping:\n",
    "                if movie_rating_mapping[movie_ID] != -1:\n",
    "                    if 0 <= movie_year_mapping[movie_ID]:\n",
    "                        for t in tokens:\n",
    "                            # this is a hack but much faster than lookup each\n",
    "                            # word within many dict keys\n",
    "                            try:\n",
    "                                words[t] = words[t]+1\n",
    "                            except:\n",
    "                                words[t] = 1\n",
    "                        movie_tokens[movie_ID] = tokens\n",
    "                        movie_index_mapping[movie_ID] = movie_last_index\n",
    "                        index_movie_mapping[movie_last_index] = movie_ID\n",
    "                        movie_last_index += 1"
   ]
  },
  {
   "cell_type": "code",
   "execution_count": 6,
   "metadata": {
    "collapsed": false
   },
   "outputs": [],
   "source": [
    "MIN_OCCURS = 5\n",
    "\n",
    "# remove all ones that have less than MIN_OCCURS occurrences\n",
    "# assign indices\n",
    "word_last_index = 0\n",
    "word_index_mapping = {}\n",
    "index_word_mapping = {}\n",
    "for word, count in words.iteritems():\n",
    "    if count >= MIN_OCCURS:\n",
    "        word_index_mapping[word] = word_last_index\n",
    "        index_word_mapping[word_last_index] = word\n",
    "        word_last_index += 1"
   ]
  },
  {
   "cell_type": "code",
   "execution_count": 7,
   "metadata": {
    "collapsed": false,
    "scrolled": true
   },
   "outputs": [],
   "source": [
    "# from the scipy.sparse library, do the importation of the csc_matrix\n",
    "from scipy.sparse import csc_matrix\n",
    "\n",
    "# prepare binary feature matrix, rows = movies, columns = actors\n",
    "matrix = np.zeros(shape=(len(movie_index_mapping), len(word_index_mapping)), dtype=np.uint8)\n",
    "\n",
    "ratings = np.empty(shape=len(movie_index_mapping), dtype=float)\n",
    "\n",
    "for movie_ID, movie_index in movie_index_mapping.iteritems():\n",
    "    for word in movie_tokens[movie_ID]:\n",
    "        if word in word_index_mapping:\n",
    "            word_index = word_index_mapping[word]\n",
    "            matrix[movie_index, word_index] += 1\n",
    "    ratings[movie_index] = movie_rating_mapping[movie_ID]\n",
    "            \n",
    "smatrix = csc_matrix(matrix)"
   ]
  },
  {
   "cell_type": "code",
   "execution_count": 8,
   "metadata": {
    "collapsed": true
   },
   "outputs": [],
   "source": [
    "def rmse(test_classes_true, test_classes_pred):\n",
    "    return sqrt(mean_squared_error(test_classes_true, test_classes_pred))\n",
    "\n",
    "def predict(train_feature_matrix, train_classes, test_feature_matrix, test_classes_real, classifier):\n",
    "    classifier.fit(train_feature_matrix, train_classes)\n",
    "    test_classes_pred = classifier.predict(test_feature_matrix)\n",
    "    return test_classes_pred, test_classes_real\n",
    "\n",
    "# cross validation predict\n",
    "def cv_predict(feature_matrix, classes, classifier, k):\n",
    "    kf = KFold(len(classes), n_folds=k)\n",
    "    results = []\n",
    "    for train, test in kf:\n",
    "        train_feature_matrix = feature_matrix[train]\n",
    "        train_classes = classes[train]\n",
    "        test_feature_matrix = feature_matrix[test]\n",
    "        test_classes_real = classes[test]\n",
    "        results.append(predict(train_feature_matrix, train_classes, test_feature_matrix, test_classes_real, classifier))\n",
    "    return results"
   ]
  },
  {
   "cell_type": "code",
   "execution_count": 9,
   "metadata": {
    "collapsed": false
   },
   "outputs": [
    {
     "data": {
      "image/png": "[encoded data removed]",
      "text/plain": [
       "<matplotlib.figure.Figure at 0x13e0e9b0>"
      ]
     },
     "metadata": {},
     "output_type": "display_data"
    },
    {
     "name": "stdout",
     "output_type": "stream",
     "text": [
      "Lasso(alpha=0.01, copy_X=True, fit_intercept=True, max_iter=1000,\n",
      "   normalize=False, positive=False, precompute='auto', tol=0.0001,\n",
      "   warm_start=False)\n",
      "1.08700419117 0.0432536409906 3.46700000763\n"
     ]
    },
    {
     "data": {
      "image/png": "[encoded data removed]",
      "text/plain": [
       "<matplotlib.figure.Figure at 0x39891f28>"
      ]
     },
     "metadata": {},
     "output_type": "display_data"
    },
    {
     "name": "stdout",
     "output_type": "stream",
     "text": [
      "LinearRegression(copy_X=True, fit_intercept=True, normalize=False)\n",
      "4.45868867078 -15.1669292709 23.143999815\n"
     ]
    },
    {
     "data": {
      "image/png": "[encoded data removed]",
      "text/plain": [
       "<matplotlib.figure.Figure at 0x94cacf8>"
      ]
     },
     "metadata": {},
     "output_type": "display_data"
    },
    {
     "name": "stdout",
     "output_type": "stream",
     "text": [
      "Ridge(alpha=0.01, copy_X=True, fit_intercept=True, max_iter=None,\n",
      "   normalize=False, solver='auto', tol=0.001)\n",
      "4.04457321038 -12.2944339376 9.28100013733\n"
     ]
    },
    {
     "data": {
      "image/png": "[encoded data removed]",
      "text/plain": [
       "<matplotlib.figure.Figure at 0x429796a0>"
      ]
     },
     "metadata": {},
     "output_type": "display_data"
    },
    {
     "name": "stdout",
     "output_type": "stream",
     "text": [
      "ElasticNet(alpha=0.01, copy_X=True, fit_intercept=True, l1_ratio=0.5,\n",
      "      max_iter=1000, normalize=False, positive=False, precompute='auto',\n",
      "      tol=0.0001, warm_start=False)\n",
      "1.07318991382 0.0674724560964 3.80500006676\n"
     ]
    },
    {
     "data": {
      "image/png": "[encoded data removed]",
      "text/plain": [
       "<matplotlib.figure.Figure at 0x435424e0>"
      ]
     },
     "metadata": {},
     "output_type": "display_data"
    },
    {
     "name": "stdout",
     "output_type": "stream",
     "text": [
      "PassiveAggressiveRegressor(C=1.0, class_weight=None, epsilon=0.1,\n",
      "              fit_intercept=True, loss='epsilon_insensitive', n_iter=5,\n",
      "              random_state=None, shuffle=False, verbose=0,\n",
      "              warm_start=False)\n",
      "2.45522538676 -3.88582869833 0.885999917984\n"
     ]
    },
    {
     "data": {
      "image/png": "[encoded data removed]",
      "text/plain": [
       "<matplotlib.figure.Figure at 0x42385400>"
      ]
     },
     "metadata": {},
     "output_type": "display_data"
    },
    {
     "name": "stdout",
     "output_type": "stream",
     "text": [
      "SGDRegressor(alpha=0.01, epsilon=0.1, eta0=0.01, fit_intercept=True,\n",
      "       l1_ratio=0.15, learning_rate='invscaling', loss='squared_loss',\n",
      "       n_iter=5, penalty='l2', power_t=0.25, random_state=None,\n",
      "       shuffle=False, verbose=0, warm_start=False)\n",
      "2.66442287475 -4.74904796217 0.826999902725\n"
     ]
    }
   ],
   "source": [
    "regressors = [\n",
    "    Lasso(alpha=0.01),\n",
    "    LinearRegression(),\n",
    "    Ridge(alpha=0.01),\n",
    "    ElasticNet(alpha=0.01),\n",
    "    PassiveAggressiveRegressor(),\n",
    "    SGDRegressor(alpha=0.01)\n",
    "]\n",
    "\n",
    "K = 5\n",
    "\n",
    "for regressor in regressors:\n",
    "    total_rmse = 0\n",
    "    total_r2_score = 0\n",
    "    start_time = time()\n",
    "\n",
    "    for i, (pred_values, true_values) in enumerate(cv_predict(smatrix, ratings, regressor, K)):\n",
    "        total_rmse += rmse(true_values, pred_values)\n",
    "        total_r2_score += r2_score(true_values, pred_values)\n",
    "        \n",
    "        # plot residuals for first set of folds\n",
    "        if i == 0:\n",
    "            residuals = []\n",
    "            for pred, real in zip(pred_values, true_values):\n",
    "                residuals.append(pred - real)\n",
    "            plt.figure(i)\n",
    "            plt.hist(residuals, bins=100, normed=1, facecolor='green')\n",
    "            plt.xlabel('Residual Values')\n",
    "            plt.ylabel('Counts')\n",
    "            plt.title('Residuals for %s' % regressor.__class__.__name__)\n",
    "            plt.savefig(\"residuals_%s_%s.png\" % ('bag_of_words', regressor.__class__.__name__), dpi=300)\n",
    "            plt.show()\n",
    "\n",
    "    avg_rmse = total_rmse / K\n",
    "    avg_r2_score = total_r2_score / K\n",
    "    \n",
    "    # bring basic info\n",
    "    print regressor\n",
    "    print avg_rmse, avg_r2_score, time() - start_time"
   ]
  }
 ],
 "metadata": {
  "kernelspec": {
   "display_name": "Python 2",
   "language": "python",
   "name": "python2"
  },
  "language_info": {
   "codemirror_mode": {
    "name": "ipython",
    "version": 2
   },
   "file_extension": ".py",
   "mimetype": "text/x-python",
   "name": "python",
   "nbconvert_exporter": "python",
   "pygments_lexer": "ipython2",
   "version": "2.7.8"
  }
 },
 "nbformat": 4,
 "nbformat_minor": 0
}
