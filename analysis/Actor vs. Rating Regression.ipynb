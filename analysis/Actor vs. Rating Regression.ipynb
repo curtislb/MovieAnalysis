{
 "cells": [
  {
   "cell_type": "code",
   "execution_count": 1,
   "metadata": {
    "collapsed": false
   },
   "outputs": [],
   "source": [
    "%matplotlib inline\n",
    "\n",
    "from json import loads, dumps\n",
    "\n",
    "from sklearn.linear_model import *\n",
    "from sklearn.cross_validation import KFold\n",
    "\n",
    "import numpy as np\n",
    "\n",
    "from sklearn.metrics import mean_squared_error, r2_score\n",
    "\n",
    "from math import sqrt\n",
    "\n",
    "from time import time\n",
    "\n",
    "from scipy.sparse import csc_matrix\n",
    "\n",
    "import matplotlib.pyplot as plt\n",
    "\n",
    "MOVIE_DATA_LOC = '../data/movies.bigdata'\n",
    "\n",
    "MOVIE_ACTOR_DATA_LOC = '../data/movie_casts.bigdata'\n",
    "MOVIE_DIR_DATA_LOC = '../data/movie_directors.bigdata'\n",
    "MOVIE_ACTOR_DIR_DATA_LOC = '../data/movie_actors_directors.bigdata'\n",
    "\n",
    "CURRENTLY_USING = MOVIE_ACTOR_DIR_DATA_LOC"
   ]
  },
  {
   "cell_type": "code",
   "execution_count": 2,
   "metadata": {
    "collapsed": true
   },
   "outputs": [],
   "source": [
    "# read in movie data\n",
    "movie_data = []\n",
    "with open(MOVIE_DATA_LOC) as f:\n",
    "    for line in f:\n",
    "        movie_data.append(loads(line))"
   ]
  },
  {
   "cell_type": "code",
   "execution_count": 3,
   "metadata": {
    "collapsed": false
   },
   "outputs": [],
   "source": [
    "# read in movie actor data\n",
    "movie_actor_data = []\n",
    "with open(CURRENTLY_USING) as f:\n",
    "    for line in f:\n",
    "        movie_actor_data.append(tuple(line.rstrip().split(',')))"
   ]
  },
  {
   "cell_type": "code",
   "execution_count": 4,
   "metadata": {
    "collapsed": false
   },
   "outputs": [
    {
     "name": "stdout",
     "output_type": "stream",
     "text": [
      "224127 224127 9756 9868 9868 9413\n"
     ]
    }
   ],
   "source": [
    "# mapping of actor_id to name\n",
    "actor_name_mapping = {}\n",
    "\n",
    "# mapping of actor_id to index\n",
    "actor_index_mapping = {}\n",
    "\n",
    "# mapping of movie_id to set(actor_ids)\n",
    "movie_cast_mapping = {}\n",
    "\n",
    "actor_last_index = 0\n",
    "for entry in movie_actor_data:\n",
    "    movie_ID, actor_ID, actor_name = entry\n",
    "    if actor_ID not in actor_name_mapping:\n",
    "        actor_name_mapping[actor_ID] = actor_name\n",
    "    if actor_ID not in actor_index_mapping:\n",
    "        actor_index_mapping[actor_ID] = actor_last_index\n",
    "        actor_last_index += 1\n",
    "    if movie_ID not in movie_cast_mapping:\n",
    "        movie_cast_mapping[movie_ID] = set()\n",
    "    movie_cast_mapping[movie_ID].add(actor_ID)\n",
    "    \n",
    "# mapping of movie_id to name\n",
    "movie_name_mapping = {}\n",
    "\n",
    "# mapping of movie_id to rating\n",
    "movie_rating_mapping = {}\n",
    "\n",
    "# mapping of movie_id to index\n",
    "movie_index_mapping = {}\n",
    "\n",
    "movie_last_index = 0\n",
    "for entry in movie_data:\n",
    "    try:\n",
    "        movie_rating = float(entry['data']['rating'])\n",
    "    except KeyError:\n",
    "        movie_rating = -1. # sentinel value for indicating lack of rating\n",
    "    movie_ID = entry['data']['tconst']\n",
    "    movie_name = entry['data']['title']\n",
    "    if movie_ID not in movie_name_mapping:\n",
    "        movie_name_mapping[movie_ID] = movie_name\n",
    "    if movie_ID not in movie_rating_mapping:\n",
    "        movie_rating_mapping[movie_ID] = movie_rating\n",
    "    if movie_ID not in movie_index_mapping:\n",
    "        # needs to have a rating and a cast\n",
    "        if (movie_rating_mapping[movie_ID] != -1.) and (movie_ID in movie_cast_mapping):\n",
    "            # year filter\n",
    "            movie_year = int(entry['data']['year'])\n",
    "            if 0 <= movie_year:\n",
    "                movie_index_mapping[movie_ID] = movie_last_index\n",
    "                movie_last_index += 1\n",
    "\n",
    "print len(actor_name_mapping), len(actor_index_mapping), len(movie_cast_mapping), len(movie_name_mapping), len(movie_rating_mapping), len(movie_index_mapping)"
   ]
  },
  {
   "cell_type": "code",
   "execution_count": 5,
   "metadata": {
    "collapsed": true
   },
   "outputs": [],
   "source": [
    "# combine actors and directors\n",
    "\n",
    "# OUT = '../data/movie_actors_directors.bigdata'\n",
    "\n",
    "# with open(OUT, 'w') as f:\n",
    "#     with open(MOVIE_ACTOR_DATA_LOC, 'r') as actor_f:\n",
    "#         for line in actor_f:\n",
    "#             f.write(line)\n",
    "#     with open(MOVIE_DIR_DATA_LOC, 'r') as dir_f:\n",
    "#         for line in dir_f:\n",
    "#             f.write(line)"
   ]
  },
  {
   "cell_type": "code",
   "execution_count": 6,
   "metadata": {
    "collapsed": false
   },
   "outputs": [],
   "source": [
    "# # make movie_directors.bigdata\n",
    "\n",
    "# OUT = '../data/movie_directors.bigdata'\n",
    "\n",
    "# with open(OUT, 'w') as f:\n",
    "#     for entry in movie_data:\n",
    "#         movie_ID = entry['data']['tconst']\n",
    "#         if 'directors_summary' in entry['data']:\n",
    "#             for director in entry['data']['directors_summary']:\n",
    "#                 director_ID = director['name']['nconst']\n",
    "#                 director_name = director['name']['name'].encode('ascii', 'ignore')\n",
    "#                 f.write('%s,%s,%s\\n' % (movie_ID, director_ID, director_name))"
   ]
  },
  {
   "cell_type": "code",
   "execution_count": 7,
   "metadata": {
    "collapsed": false
   },
   "outputs": [],
   "source": [
    "def rmse(test_classes_true, test_classes_pred):\n",
    "    return sqrt(mean_squared_error(test_classes_true, test_classes_pred))"
   ]
  },
  {
   "cell_type": "code",
   "execution_count": 8,
   "metadata": {
    "collapsed": false
   },
   "outputs": [],
   "source": [
    "def predict(train_feature_matrix, train_classes, test_feature_matrix, test_classes_real, classifier):\n",
    "    classifier.fit(train_feature_matrix, train_classes)\n",
    "    test_classes_pred = classifier.predict(test_feature_matrix)\n",
    "    return test_classes_pred, test_classes_real"
   ]
  },
  {
   "cell_type": "code",
   "execution_count": 9,
   "metadata": {
    "collapsed": false
   },
   "outputs": [],
   "source": [
    "# cross validation predict\n",
    "def cv_predict(feature_matrix, classes, classifier, k):\n",
    "    kf = KFold(len(classes), n_folds=k)\n",
    "    results = []\n",
    "    for train, test in kf:\n",
    "        train_feature_matrix = feature_matrix[train]\n",
    "        train_classes = classes[train]\n",
    "        test_feature_matrix = feature_matrix[test]\n",
    "        test_classes_real = classes[test]\n",
    "        results.append(predict(train_feature_matrix, train_classes, test_feature_matrix, test_classes_real, classifier))\n",
    "    return results"
   ]
  },
  {
   "cell_type": "code",
   "execution_count": 10,
   "metadata": {
    "collapsed": false
   },
   "outputs": [],
   "source": [
    "# prepare binary feature matrix, rows = movies, columns = actors\n",
    "matrix = np.empty(shape=(len(movie_index_mapping), len(actor_index_mapping)), dtype=np.uint8)\n",
    "matrix.fill(0)\n",
    "\n",
    "ratings = np.empty(shape=len(movie_index_mapping), dtype=float)\n",
    "\n",
    "for movie_ID in movie_index_mapping:\n",
    "    movie_index = movie_index_mapping[movie_ID]\n",
    "    for actor_ID in movie_cast_mapping[movie_ID]:\n",
    "        actor_index = actor_index_mapping[actor_ID]\n",
    "        matrix[movie_index, actor_index] = 1\n",
    "    ratings[movie_index] = movie_rating_mapping[movie_ID]\n",
    "    \n",
    "smatrix = csc_matrix(matrix)"
   ]
  },
  {
   "cell_type": "code",
   "execution_count": 11,
   "metadata": {
    "collapsed": false,
    "scrolled": true
   },
   "outputs": [
    {
     "data": {
      "image/png": "[encoded data removed]",
      "text/plain": [
       "<matplotlib.figure.Figure at 0x3a169e10>"
      ]
     },
     "metadata": {},
     "output_type": "display_data"
    },
    {
     "name": "stdout",
     "output_type": "stream",
     "text": [
      "Lasso(alpha=0.01, copy_X=True, fit_intercept=True, max_iter=1000,\n",
      "   normalize=False, positive=False, precompute='auto', tol=0.0001,\n",
      "   warm_start=False)\n",
      "1.15152435201 -0.244345897398 19.0780000687\n"
     ]
    },
    {
     "data": {
      "image/png": "[encoded data removed]",
      "text/plain": [
       "<matplotlib.figure.Figure at 0x3a169ef0>"
      ]
     },
     "metadata": {},
     "output_type": "display_data"
    },
    {
     "name": "stdout",
     "output_type": "stream",
     "text": [
      "LinearRegression(copy_X=True, fit_intercept=True, normalize=False)\n",
      "1.11181678613 -0.158911134899 16.4070000648\n"
     ]
    },
    {
     "data": {
      "image/png": "[encoded data removed]",
      "text/plain": [
       "<matplotlib.figure.Figure at 0x3ebcde48>"
      ]
     },
     "metadata": {},
     "output_type": "display_data"
    },
    {
     "name": "stdout",
     "output_type": "stream",
     "text": [
      "Ridge(alpha=0.01, copy_X=True, fit_intercept=True, max_iter=None,\n",
      "   normalize=False, solver='auto', tol=0.001)\n",
      "1.11157081265 -0.158417356427 4.21999979019\n"
     ]
    },
    {
     "data": {
      "image/png": "[encoded data removed]",
      "text/plain": [
       "<matplotlib.figure.Figure at 0x416a00f0>"
      ]
     },
     "metadata": {},
     "output_type": "display_data"
    },
    {
     "name": "stdout",
     "output_type": "stream",
     "text": [
      "ElasticNet(alpha=0.01, copy_X=True, fit_intercept=True, l1_ratio=0.5,\n",
      "      max_iter=1000, normalize=False, positive=False, precompute='auto',\n",
      "      tol=0.0001, warm_start=False)\n",
      "1.15143011956 -0.24416238028 30.359000206\n"
     ]
    },
    {
     "data": {
      "image/png": "[encoded data removed]",
      "text/plain": [
       "<matplotlib.figure.Figure at 0x414fe470>"
      ]
     },
     "metadata": {},
     "output_type": "display_data"
    },
    {
     "name": "stdout",
     "output_type": "stream",
     "text": [
      "PassiveAggressiveRegressor(C=1.0, class_weight=None, epsilon=0.1,\n",
      "              fit_intercept=True, loss='epsilon_insensitive', n_iter=5,\n",
      "              random_state=None, shuffle=False, verbose=0,\n",
      "              warm_start=False)\n",
      "1.80478744558 -2.38367311706 0.913999795914\n"
     ]
    },
    {
     "data": {
      "image/png": "[encoded data removed]",
      "text/plain": [
       "<matplotlib.figure.Figure at 0x41f67630>"
      ]
     },
     "metadata": {},
     "output_type": "display_data"
    },
    {
     "name": "stdout",
     "output_type": "stream",
     "text": [
      "SGDRegressor(alpha=0.01, epsilon=0.1, eta0=0.01, fit_intercept=True,\n",
      "       l1_ratio=0.15, learning_rate='invscaling', loss='squared_loss',\n",
      "       n_iter=5, penalty='l2', power_t=0.25, random_state=None,\n",
      "       shuffle=False, verbose=0, warm_start=False)\n",
      "3.29149861054 -9.46228322234 0.90900015831\n"
     ]
    }
   ],
   "source": [
    "regressors = [\n",
    "    Lasso(alpha=0.01),\n",
    "    LinearRegression(),\n",
    "    Ridge(alpha=0.01),\n",
    "    ElasticNet(alpha=0.01),\n",
    "    PassiveAggressiveRegressor(),\n",
    "    SGDRegressor(alpha=0.01)\n",
    "]\n",
    "\n",
    "K = 5\n",
    "\n",
    "for regressor in regressors:\n",
    "    total_rmse = 0\n",
    "    total_r2_score = 0\n",
    "    start_time = time()\n",
    "\n",
    "    for i, (pred_values, true_values) in enumerate(cv_predict(smatrix, ratings, regressor, K)):\n",
    "        total_rmse += rmse(true_values, pred_values)\n",
    "        total_r2_score += r2_score(true_values, pred_values)\n",
    "        \n",
    "        # plot residuals for first set of folds\n",
    "        if i == 0:\n",
    "            residuals = []\n",
    "            for pred, real in zip(pred_values, true_values):\n",
    "                residuals.append(pred - real)\n",
    "            plt.figure(i)\n",
    "            plt.hist(residuals, bins=100, normed=1, facecolor='green')\n",
    "            plt.xlabel('Residual Values')\n",
    "            plt.ylabel('Counts')\n",
    "            plt.title('Residuals for %s' % regressor.__class__.__name__)\n",
    "            plt.savefig(\"residuals_%s_%s.png\" % ('actors_dirs', regressor.__class__.__name__), dpi=300)\n",
    "            plt.show()\n",
    "\n",
    "    avg_rmse = total_rmse / K\n",
    "    avg_r2_score = total_r2_score / K\n",
    "    \n",
    "    # bring basic info\n",
    "    print regressor\n",
    "    print avg_rmse, avg_r2_score, time() - start_time"
   ]
  },
  {
   "cell_type": "code",
   "execution_count": 12,
   "metadata": {
    "collapsed": false
   },
   "outputs": [
    {
     "name": "stdout",
     "output_type": "stream",
     "text": [
      "1.11301531288 -9.46228322234\n"
     ]
    }
   ],
   "source": [
    "# 5 fold cross validation with mean as predictor\n",
    "\n",
    "# divide ratings data into K sets\n",
    "ratings_lists = []\n",
    "set_size = int(len(ratings) / float(K))\n",
    "for i in xrange(K):\n",
    "    ratings_lists.append(list(ratings[(i * set_size):((i + 1) * set_size)]))\n",
    "\n",
    "# now run K fold validation\n",
    "total_rmse, total_r2_score = 0, 0\n",
    "for i in xrange(K):\n",
    "    test = ratings_lists[i]\n",
    "    train = []\n",
    "    for j in xrange(K):\n",
    "        train += ratings_lists[j]\n",
    "        \n",
    "    train_average = sum(train) / float(len(train))\n",
    "    pred_values = [train_average for _ in test]\n",
    "    \n",
    "    total_rmse += rmse(test, pred_values)\n",
    "    total_r2_score += r2_score(test, pred_values)\n",
    "    \n",
    "avg_rmse = total_rmse / K\n",
    "avg_r2_score - total_r2_score / K\n",
    "\n",
    "print avg_rmse, avg_r2_score"
   ]
  },
  {
   "cell_type": "code",
   "execution_count": null,
   "metadata": {
    "collapsed": false
   },
   "outputs": [],
   "source": []
  },
  {
   "cell_type": "code",
   "execution_count": null,
   "metadata": {
    "collapsed": true
   },
   "outputs": [],
   "source": []
  }
 ],
 "metadata": {
  "kernelspec": {
   "display_name": "Python 2",
   "language": "python",
   "name": "python2"
  },
  "language_info": {
   "codemirror_mode": {
    "name": "ipython",
    "version": 2
   },
   "file_extension": ".py",
   "mimetype": "text/x-python",
   "name": "python",
   "nbconvert_exporter": "python",
   "pygments_lexer": "ipython2",
   "version": "2.7.8"
  }
 },
 "nbformat": 4,
 "nbformat_minor": 0
}
